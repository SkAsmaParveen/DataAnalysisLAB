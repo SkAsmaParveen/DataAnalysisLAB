{
 "cells": [
  {
   "cell_type": "code",
   "execution_count": 14,
   "id": "dd68e3eb",
   "metadata": {},
   "outputs": [],
   "source": [
    "import numpy as np\n",
    "import pandas as pd\n",
    "from sklearn.model_selection import train_test_split"
   ]
  },
  {
   "cell_type": "code",
   "execution_count": null,
   "id": "410fe82d",
   "metadata": {},
   "outputs": [],
   "source": [
    "# read and print the dataset\n",
    "# Split the dataset into Training and testing Data\n",
    "\n",
    "# first Train the data and then make predictions on testing data\n"
   ]
  },
  {
   "cell_type": "code",
   "execution_count": 7,
   "id": "c7c6295a",
   "metadata": {},
   "outputs": [
    {
     "name": "stdout",
     "output_type": "stream",
     "text": [
      "    day   outlook  temp humidity    wind play\n",
      "0    D1     Sunny   Hot     High    Weak   No\n",
      "1    D2     Sunny   Hot     High  Strong   No\n",
      "2    D3  Overcast   Hot     High    Weak  Yes\n",
      "3    D4      Rain  Mild     High    Weak  Yes\n",
      "4    D5      Rain  Cool   Normal    Weak  Yes\n",
      "5    D6      Rain  Cool   Normal  Strong   No\n",
      "6    D7  Overcast  Cool   Normal  Strong  Yes\n",
      "7    D8     Sunny  Mild     High    Weak   No\n",
      "8    D9     Sunny  Cool   Normal    Weak  Yes\n",
      "9   D10      Rain  Mild   Normal    Weak  Yes\n",
      "10  D11     Sunny  Mild   Normal  Strong  Yes\n",
      "11  D12  Overcast  Mild     High  Strong  Yes\n",
      "12  D13  Overcast   Hot   Normal    Weak  Yes\n",
      "13  D14      Rain  Mild     High  Strong   No\n"
     ]
    }
   ],
   "source": [
    "# reading the dataset\n",
    "tennis = pd.read_csv('play_tennis.csv')\n",
    "\n",
    "print(tennis)"
   ]
  },
  {
   "cell_type": "code",
   "execution_count": 21,
   "id": "57304827",
   "metadata": {},
   "outputs": [
    {
     "name": "stdout",
     "output_type": "stream",
     "text": [
      "    day   outlook  temp humidity    wind\n",
      "0    D1     Sunny   Hot     High    Weak\n",
      "1    D2     Sunny   Hot     High  Strong\n",
      "2    D3  Overcast   Hot     High    Weak\n",
      "3    D4      Rain  Mild     High    Weak\n",
      "4    D5      Rain  Cool   Normal    Weak\n",
      "5    D6      Rain  Cool   Normal  Strong\n",
      "6    D7  Overcast  Cool   Normal  Strong\n",
      "7    D8     Sunny  Mild     High    Weak\n",
      "8    D9     Sunny  Cool   Normal    Weak\n",
      "9   D10      Rain  Mild   Normal    Weak\n",
      "10  D11     Sunny  Mild   Normal  Strong\n",
      "11  D12  Overcast  Mild     High  Strong\n",
      "12  D13  Overcast   Hot   Normal    Weak\n",
      "13  D14      Rain  Mild     High  Strong\n",
      "\n",
      "\n",
      "0      No\n",
      "1      No\n",
      "2     Yes\n",
      "3     Yes\n",
      "4     Yes\n",
      "5      No\n",
      "6     Yes\n",
      "7      No\n",
      "8     Yes\n",
      "9     Yes\n",
      "10    Yes\n",
      "11    Yes\n",
      "12    Yes\n",
      "13     No\n",
      "Name: play, dtype: object\n",
      "\n",
      "\n",
      "   day   outlook  temp humidity    wind\n",
      "0   D1     Sunny   Hot     High    Weak\n",
      "1   D2     Sunny   Hot     High  Strong\n",
      "2   D3  Overcast   Hot     High    Weak\n",
      "3   D4      Rain  Mild     High    Weak\n",
      "4   D5      Rain  Cool   Normal    Weak\n",
      "5   D6      Rain  Cool   Normal  Strong\n",
      "6   D7  Overcast  Cool   Normal  Strong\n",
      "7   D8     Sunny  Mild     High    Weak\n",
      "8   D9     Sunny  Cool   Normal    Weak\n",
      "9  D10      Rain  Mild   Normal    Weak \n",
      "     day   outlook  temp humidity    wind\n",
      "10  D11     Sunny  Mild   Normal  Strong\n",
      "11  D12  Overcast  Mild     High  Strong\n",
      "12  D13  Overcast   Hot   Normal    Weak\n",
      "13  D14      Rain  Mild     High  Strong\n",
      "\n",
      "\n",
      "\n",
      "0     No\n",
      "1     No\n",
      "2    Yes\n",
      "3    Yes\n",
      "4    Yes\n",
      "5     No\n",
      "6    Yes\n",
      "7     No\n",
      "8    Yes\n",
      "9    Yes\n",
      "Name: play, dtype: object 10    Yes\n",
      "11    Yes\n",
      "12    Yes\n",
      "13     No\n",
      "Name: play, dtype: object\n"
     ]
    }
   ],
   "source": [
    "# splitting training and testing data\n",
    "X, Y = tennis.iloc[:, :5], tennis.iloc[:, -1]\n",
    "\n",
    "print(X)\n",
    "print(\"\\n\")\n",
    "print(Y)\n",
    "print('\\n')\n",
    "x_train, x_test, y_train, y_test = train_test_split(X, Y, shuffle = False)\n",
    "\n",
    "print(x_train, '\\n',x_test)\n",
    "print(\"\\n\\n\")\n",
    "print(y_train, y_test)"
   ]
  },
  {
   "cell_type": "code",
   "execution_count": 27,
   "id": "c4444564",
   "metadata": {},
   "outputs": [
    {
     "name": "stdout",
     "output_type": "stream",
     "text": [
      "0.6\n",
      "0.4\n"
     ]
    }
   ],
   "source": [
    " # calculate the Probabilities for yes and no\n",
    "    \n",
    "prob_yes = y_train[y_train == 'Yes'].count() / y_train.count()\n",
    "prob_no = y_train[y_train == 'No'].count() / y_train.count()\n",
    "\n",
    "print(prob_yes)\n",
    "print(prob_no)\n"
   ]
  },
  {
   "cell_type": "code",
   "execution_count": null,
   "id": "3af7c5b5",
   "metadata": {},
   "outputs": [],
   "source": [
    "# Calculating the probabilities for every attribute when Yes and No\n",
    "\n",
    "all_attribute_probabilities = {}\n",
    "\n",
    "columns = x_train.columns # All the columns in the training data\n",
    "\n",
    "for col in columns:\n",
    "    "
   ]
  }
 ],
 "metadata": {
  "kernelspec": {
   "display_name": "Python 3 (ipykernel)",
   "language": "python",
   "name": "python3"
  },
  "language_info": {
   "codemirror_mode": {
    "name": "ipython",
    "version": 3
   },
   "file_extension": ".py",
   "mimetype": "text/x-python",
   "name": "python",
   "nbconvert_exporter": "python",
   "pygments_lexer": "ipython3",
   "version": "3.9.7"
  }
 },
 "nbformat": 4,
 "nbformat_minor": 5
}
