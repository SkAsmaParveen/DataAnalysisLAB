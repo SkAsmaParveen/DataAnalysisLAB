{
 "cells": [
  {
   "cell_type": "markdown",
   "id": "4f764e94",
   "metadata": {},
   "source": [
    "### i)\tCreate a one-dimensional array and perform  all operations "
   ]
  },
  {
   "cell_type": "code",
   "execution_count": 10,
   "id": "a7a6943a",
   "metadata": {},
   "outputs": [
    {
     "name": "stdout",
     "output_type": "stream",
     "text": [
      "a is: \n",
      " [2 3 4 6]\n",
      "\n",
      "\n",
      "b is : \n",
      " [4 5 6 7]\n",
      "[0. 0. 0. 0.]\n",
      "[1. 1. 1. 1.]\n",
      "[3 3 3 3]\n",
      "\n",
      "\n",
      "\n",
      "[[1 0 0]\n",
      " [0 1 0]\n",
      " [0 0 1]]\n",
      "\n",
      "\n",
      "[1 3 5 7 9]\n",
      "\n",
      "\n",
      "[ 1.   5.5 10. ]\n",
      "\n",
      "\n",
      "\n",
      "Arithmetic operations:\n",
      "\n",
      "\n",
      "np.add(a,b) is: \n",
      " [ 6  8 10 13]\n",
      "\n",
      "\n",
      "np.subtract(a,b) is: \n",
      " [-2 -2 -2 -1]\n",
      "\n",
      "\n",
      "np.multiply(a,b) is: \n",
      " [ 8 15 24 42]\n",
      "\n",
      "\n",
      "np.divide(a,b) is: \n",
      " [0.5        0.6        0.66666667 0.85714286]\n",
      "\n",
      "\n",
      "np.power(a,b) is:\n",
      " [    16    243   4096 279936]\n",
      "\n",
      "\n",
      "np.mod(a,b) is:\n",
      " [2 3 4 6]\n",
      "\n",
      "\n",
      "np.remainder(a,b) is:\n",
      " [2 3 4 6]\n",
      "\n",
      "\n",
      "np.sqrt(a) is:\n",
      " [1.4142 1.7321 2.     2.4495]\n",
      "\n",
      "\n",
      "[1 3 5 7 9]\n",
      "[10 12 14 16 18]\n",
      "stacking vertically:   [[ 1  3  5  7  9]\n",
      " [10 12 14 16 18]]\n",
      "Stacking Horizontally:  [ 1  3  5  7  9 10 12 14 16 18]\n"
     ]
    }
   ],
   "source": [
    "import numpy as np\n",
    "\n",
    "# np.zeros()\n",
    "# np.ones\n",
    "# np.full\n",
    "# np.eye\n",
    "# np.empty()\n",
    "# np.hstack\n",
    "# np.vstack\n",
    "# np.arange()\n",
    "# np.linspace()\n",
    "# Arithmetic operations \n",
    "# (np.add(), np.subtract(), np.multiply(), np.divide(), np.power(), \n",
    "#  np.reciprocal(), np.mod())\n",
    "# \n",
    "\n",
    "\n",
    "a = np.array([2,3,4,6])\n",
    "b = np.array([4,5,6,7])\n",
    "print(\"a is: \\n\",a)\n",
    "print(\"\\n\")\n",
    "print(\"b is : \\n\",b)\n",
    "\n",
    "print(np.zeros(a.shape))\n",
    "\n",
    "print(np.ones(a.shape))\n",
    "\n",
    "print(np.full((a.shape),3)) # np.full(shape,element to full)\n",
    "print(\"\\n\\n\")\n",
    "\n",
    "print(np.eye(3,dtype=\"int\")) # np.eye(no.of rows) creates Identity matrix\n",
    "print(\"\\n\")\n",
    "\n",
    "v1 = np.arange(1,10,2) # np.arange(start, stop, size.ofsteps)\n",
    "print(v1)\n",
    "print(\"\\n\")\n",
    "\n",
    "print(np.linspace(1,10,3)) # np.linspace(start, stop, no. of steps)\n",
    "print(\"\\n\\n\")\n",
    "\n",
    "# ARITHMETIC OPERATIONS\n",
    "\n",
    "print(\"Arithmetic operations:\\n\\n\")\n",
    "print(\"np.add(a,b) is: \\n\",np.add(a,b))\n",
    "print(\"\\n\")\n",
    "print(\"np.subtract(a,b) is: \\n\",np.subtract(a,b))\n",
    "print(\"\\n\")\n",
    "print(\"np.multiply(a,b) is: \\n\",np.multiply(a,b))\n",
    "print(\"\\n\")\n",
    "print(\"np.divide(a,b) is: \\n\",np.divide(a,b))\n",
    "print(\"\\n\")\n",
    "print(\"np.power(a,b) is:\\n\",np.power(a,b))\n",
    "print(\"\\n\")\n",
    "print(\"np.mod(a,b) is:\\n\",np.mod(a,b))\n",
    "print(\"\\n\")\n",
    "print(\"np.remainder(a,b) is:\\n\",np.remainder(a,b))\n",
    "print(\"\\n\")\n",
    "print(\"np.sqrt(a) is:\\n\",np.round_(np.sqrt(a),4))\n",
    "print(\"\\n\")\n",
    "\n",
    "v1 = np.arange(1,10,2)\n",
    "print(v1)\n",
    "v2 = np.arange(10,20,2)\n",
    "print(v2)\n",
    "print(\"stacking vertically:  \",np.vstack((v1,v2))) # no.of elements must be same in two arrays\n",
    "print(\"Stacking Horizontally: \",np.hstack((v1,v2)))"
   ]
  },
  {
   "cell_type": "markdown",
   "id": "13bc2110",
   "metadata": {},
   "source": [
    "### ii)\tCreate multi-dimensional arrays and find its shape & dimension "
   ]
  },
  {
   "cell_type": "code",
   "execution_count": 12,
   "id": "4c40b735",
   "metadata": {},
   "outputs": [
    {
     "name": "stdout",
     "output_type": "stream",
     "text": [
      "a is : \n",
      " [[ 1  2 34]\n",
      " [ 4  5  6]]\n",
      "b is : \n",
      " [[[ 1  2  3]\n",
      "  [ 3  4  5]\n",
      "  [33 44 55]]]\n",
      "2\n",
      "3\n",
      "(2, 3)\n",
      "(1, 3, 3)\n"
     ]
    }
   ],
   "source": [
    "a = np.array([[1,2,34],[4,5,6]])\n",
    "print(\"a is : \\n\",a)\n",
    "b = np.array([[[1,2,3],[3,4,5],[33,44,55]]])\n",
    "print(\"b is : \\n\",b)\n",
    "print(a.ndim)\n",
    "print(b.ndim)\n",
    "print(a.shape)\n",
    "print(b.shape)"
   ]
  },
  {
   "cell_type": "markdown",
   "id": "194dbd58",
   "metadata": {},
   "source": [
    "### iii)\tCreate a matrix full of zeros and ones "
   ]
  },
  {
   "cell_type": "code",
   "execution_count": 13,
   "id": "59f0bf6d",
   "metadata": {},
   "outputs": [
    {
     "name": "stdout",
     "output_type": "stream",
     "text": [
      "a is: \n",
      " [2 3 4 6]\n",
      "\n",
      "\n",
      "b is : \n",
      " [4 5 6 7]\n",
      "[0. 0. 0. 0.]\n",
      "[1. 1. 1. 1.]\n"
     ]
    }
   ],
   "source": [
    "a = np.array([2,3,4,6])\n",
    "b = np.array([4,5,6,7])\n",
    "print(\"a is: \\n\",a)\n",
    "print(\"\\n\")\n",
    "print(\"b is : \\n\",b)\n",
    "\n",
    "print(np.zeros(a.shape))\n",
    "\n",
    "print(np.ones(a.shape))"
   ]
  },
  {
   "cell_type": "markdown",
   "id": "a1d3ab29",
   "metadata": {},
   "source": [
    "### iv)\tReshape and flatten data in the array "
   ]
  },
  {
   "cell_type": "code",
   "execution_count": 16,
   "id": "4d176a57",
   "metadata": {},
   "outputs": [
    {
     "name": "stdout",
     "output_type": "stream",
     "text": [
      "a is: \n",
      " [[ 0  1  2  3  4  5  6  7]\n",
      " [ 8  9 10 11 12 13 14 15]\n",
      " [16 17 18 19 20 21 22 23]\n",
      " [24 25 26 27 28 29 30 31]]\n",
      "before flattening:\n",
      " [[1 2 3]\n",
      " [4 5 6]]\n",
      "After Flattening: \n",
      "  [1 2 3 4 5 6]\n"
     ]
    }
   ],
   "source": [
    "a = np.arange(32).reshape(4,8)\n",
    "print(\"a is: \\n\",a)\n",
    "\n",
    "c = np.array([[1,2,3],[4,5,6]])\n",
    "print(\"before flattening:\\n\",c)\n",
    "b = c.flatten() # array_name.flatten()\n",
    "print(\"After Flattening: \\n \",b)"
   ]
  },
  {
   "cell_type": "markdown",
   "id": "01af077a",
   "metadata": {},
   "source": [
    "### v)\tPerform arithmetic operations on multi-dimensional  arrays"
   ]
  },
  {
   "cell_type": "code",
   "execution_count": null,
   "id": "520650d9",
   "metadata": {},
   "outputs": [],
   "source": [
    "\n"
   ]
  }
 ],
 "metadata": {
  "kernelspec": {
   "display_name": "Python 3 (ipykernel)",
   "language": "python",
   "name": "python3"
  },
  "language_info": {
   "codemirror_mode": {
    "name": "ipython",
    "version": 3
   },
   "file_extension": ".py",
   "mimetype": "text/x-python",
   "name": "python",
   "nbconvert_exporter": "python",
   "pygments_lexer": "ipython3",
   "version": "3.11.3"
  }
 },
 "nbformat": 4,
 "nbformat_minor": 5
}
