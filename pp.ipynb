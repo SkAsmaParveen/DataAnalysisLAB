{
 "cells": [
  {
   "cell_type": "code",
   "execution_count": null,
   "id": "f387b1cd",
   "metadata": {},
   "outputs": [],
   "source": [
    "\n",
    "\n",
    "a = df.rename(columns = {'old' : 'new', 'old1' : 'new1'}, inplace = True)"
   ]
  },
  {
   "cell_type": "code",
   "execution_count": 1,
   "id": "893960c5",
   "metadata": {},
   "outputs": [],
   "source": [
    "import numpy as np\n",
    "import pandas as pd"
   ]
  },
  {
   "cell_type": "code",
   "execution_count": 7,
   "id": "de5e3937",
   "metadata": {},
   "outputs": [
    {
     "name": "stdout",
     "output_type": "stream",
     "text": [
      "       Name  Age\n",
      "0   Bhavish   25\n",
      "1  Abhinabh   32\n",
      "2    Siddhu   28\n",
      "0    False\n",
      "1    False\n",
      "2     True\n",
      "Name: Name, dtype: bool\n"
     ]
    },
    {
     "data": {
      "text/html": [
       "<div>\n",
       "<style scoped>\n",
       "    .dataframe tbody tr th:only-of-type {\n",
       "        vertical-align: middle;\n",
       "    }\n",
       "\n",
       "    .dataframe tbody tr th {\n",
       "        vertical-align: top;\n",
       "    }\n",
       "\n",
       "    .dataframe thead th {\n",
       "        text-align: right;\n",
       "    }\n",
       "</style>\n",
       "<table border=\"1\" class=\"dataframe\">\n",
       "  <thead>\n",
       "    <tr style=\"text-align: right;\">\n",
       "      <th></th>\n",
       "      <th>Name</th>\n",
       "      <th>Age</th>\n",
       "    </tr>\n",
       "  </thead>\n",
       "  <tbody>\n",
       "    <tr>\n",
       "      <th>2</th>\n",
       "      <td>Siddhu</td>\n",
       "      <td>28</td>\n",
       "    </tr>\n",
       "  </tbody>\n",
       "</table>\n",
       "</div>"
      ],
      "text/plain": [
       "     Name  Age\n",
       "2  Siddhu   28"
      ]
     },
     "execution_count": 7,
     "metadata": {},
     "output_type": "execute_result"
    }
   ],
   "source": [
    "data = {'Name': ['Bhavish', 'Abhinabh', 'Siddhu'],\n",
    "   'Age': [25, 32, 28]}\n",
    "df = pd.DataFrame(data)\n",
    "print(df)\n",
    "\n",
    "\n",
    "\n",
    "# Search for a value in the 'Name' column\n",
    "search_value = 'Siddhu'\n",
    "\n",
    "print(df['Name'] == search_value)\n",
    "\n",
    "\n",
    "result = df[df['Name'] == search_value]\n",
    "result"
   ]
  },
  {
   "cell_type": "code",
   "execution_count": 10,
   "id": "ab7f174c",
   "metadata": {},
   "outputs": [
    {
     "name": "stdout",
     "output_type": "stream",
     "text": [
      "0     Bhavish\n",
      "1    Abhinabh\n",
      "2      Siddhu\n",
      "Name: Name, dtype: object\n"
     ]
    }
   ],
   "source": [
    "print(df['Name'].where(df['Age'] < 50))\n",
    "\n"
   ]
  },
  {
   "cell_type": "code",
   "execution_count": 19,
   "id": "fd64045d",
   "metadata": {},
   "outputs": [
    {
     "name": "stdout",
     "output_type": "stream",
     "text": [
      "    name  age  qualified\n",
      "0  Sally   50       True\n",
      "1   Mary   40      False\n",
      "2   John   30      False\n",
      "    name  qualified\n",
      "0  Sally       True\n",
      "1   Mary      False\n",
      "2   John      False\n"
     ]
    }
   ],
   "source": [
    "data = {\n",
    "  \"name\": [\"Sally\", \"Mary\", \"John\"],\n",
    "  \"age\": [50, 40, 30],\n",
    "  \"qualified\": [True, False, False]\n",
    "}\n",
    "\n",
    "df = pd.DataFrame(data)\n",
    "print(df)\n",
    "\n",
    "newdf = df.drop(\"age\", axis='columns')\n",
    "\n",
    "print(newdf)"
   ]
  },
  {
   "cell_type": "code",
   "execution_count": 28,
   "id": "2269daec",
   "metadata": {},
   "outputs": [
    {
     "name": "stdout",
     "output_type": "stream",
     "text": [
      "0    Sally\n",
      "1     Mary\n",
      "2     John\n",
      "Name: name, dtype: object\n",
      "    name  qualified\n",
      "0  Sally       True\n",
      "1   Mary      False\n",
      "    name  qualified\n",
      "0  Sally       True\n",
      "1   Mary      False\n",
      "2   John      False\n"
     ]
    }
   ],
   "source": [
    "print(newdf.loc[0:2,'name']) \n",
    "\n",
    "# filter using df.loc(row dataset index/ labels you've given , 'col_name') method\n",
    "\n",
    "print(newdf.iloc[0:2,0:2])\n",
    "\n",
    "# df.iloc(row index range , col_index range)\n",
    "\n",
    "print(newdf[['name','qualified']]) # fancy indexing\n",
    "\n"
   ]
  },
  {
   "cell_type": "code",
   "execution_count": 39,
   "id": "8f28bc72",
   "metadata": {},
   "outputs": [
    {
     "name": "stdout",
     "output_type": "stream",
     "text": [
      "    name  age  qualified\n",
      "0  Sally   50       True\n",
      "1   Mary   40      False\n",
      "2   John   30      False\n",
      "40.0\n",
      "10.0\n",
      "0    46.0\n",
      "1    36.0\n",
      "2    26.0\n",
      "Name: age, dtype: float64\n"
     ]
    }
   ],
   "source": [
    "# Pandas Normalize Using Mean Normalization.\n",
    "\n",
    "# Pandas Normalize Using Mean Normalization.\n",
    "#normalized_df=(df-df.mean())/df.std()\n",
    "print(df)\n",
    "\n",
    "mean = df.age.mean()\n",
    "print(mean)\n",
    "std = df.age.std()\n",
    "print(std)\n",
    "\n",
    "normalized_df = (df.age - mean/std)  # x-m / sigma\n",
    "\n",
    "print(normalized_df)"
   ]
  },
  {
   "cell_type": "code",
   "execution_count": 43,
   "id": "48138dcd",
   "metadata": {},
   "outputs": [
    {
     "name": "stdout",
     "output_type": "stream",
     "text": [
      "    name  age  qualified     food\n",
      "0  Sally   50       True  noodles\n",
      "1   Mary   40      False   chikki\n",
      "2   John   30      False   paneer\n"
     ]
    }
   ],
   "source": [
    "food = [\"noodles\",\"chikki\",\"paneer\"]\n",
    "df['food'] = food\n",
    "print(df)"
   ]
  },
  {
   "cell_type": "code",
   "execution_count": 50,
   "id": "a606d696",
   "metadata": {},
   "outputs": [
    {
     "name": "stdout",
     "output_type": "stream",
     "text": [
      "    name  age  qualified     food  Rank\n",
      "0  Sally   50       True  noodles   2.0\n",
      "1   Mary   40      False   chikki   3.0\n",
      "2   John   30      False   paneer   1.0\n"
     ]
    }
   ],
   "source": [
    "df[\"Rank\"] = df.food.rank(axis=0, method = 'average' , ascending = False)\n",
    "print(df)"
   ]
  },
  {
   "cell_type": "code",
   "execution_count": 59,
   "id": "8750da39",
   "metadata": {},
   "outputs": [
    {
     "name": "stdout",
     "output_type": "stream",
     "text": [
      "      Name  Maths  Science\n",
      "0   Martha     87       83\n",
      "1      Tim     91       99\n",
      "2      Rob     97       84\n",
      "3  Georgia     95       76\n"
     ]
    },
    {
     "data": {
      "text/html": [
       "<div>\n",
       "<style scoped>\n",
       "    .dataframe tbody tr th:only-of-type {\n",
       "        vertical-align: middle;\n",
       "    }\n",
       "\n",
       "    .dataframe tbody tr th {\n",
       "        vertical-align: top;\n",
       "    }\n",
       "\n",
       "    .dataframe thead th {\n",
       "        text-align: right;\n",
       "    }\n",
       "</style>\n",
       "<table border=\"1\" class=\"dataframe\">\n",
       "  <thead>\n",
       "    <tr style=\"text-align: right;\">\n",
       "      <th></th>\n",
       "      <th>Name</th>\n",
       "      <th>Maths</th>\n",
       "      <th>Science</th>\n",
       "    </tr>\n",
       "  </thead>\n",
       "  <tbody>\n",
       "    <tr>\n",
       "      <th>0</th>\n",
       "      <td>Martha</td>\n",
       "      <td>87</td>\n",
       "      <td>83</td>\n",
       "    </tr>\n",
       "    <tr>\n",
       "      <th>1</th>\n",
       "      <td>Tim</td>\n",
       "      <td>91</td>\n",
       "      <td>99</td>\n",
       "    </tr>\n",
       "    <tr>\n",
       "      <th>2</th>\n",
       "      <td>Rob</td>\n",
       "      <td>97</td>\n",
       "      <td>84</td>\n",
       "    </tr>\n",
       "    <tr>\n",
       "      <th>3</th>\n",
       "      <td>Georgia</td>\n",
       "      <td>95</td>\n",
       "      <td>76</td>\n",
       "    </tr>\n",
       "    <tr>\n",
       "      <th>4</th>\n",
       "      <td>Amy</td>\n",
       "      <td>89</td>\n",
       "      <td>93</td>\n",
       "    </tr>\n",
       "  </tbody>\n",
       "</table>\n",
       "</div>"
      ],
      "text/plain": [
       "      Name  Maths  Science\n",
       "0   Martha     87       83\n",
       "1      Tim     91       99\n",
       "2      Rob     97       84\n",
       "3  Georgia     95       76\n",
       "4      Amy     89       93"
      ]
     },
     "metadata": {},
     "output_type": "display_data"
    }
   ],
   "source": [
    "dict = {'Name':['Martha', 'Tim', 'Rob', 'Georgia'],\n",
    "        'Maths':[87, 91, 97, 95],\n",
    "        'Science':[83, 99, 84, 76]\n",
    "       }\n",
    "  \n",
    "\n",
    "df = pd.DataFrame(dict)\n",
    "  \n",
    "print(df)\n",
    "\n",
    "df.loc[len(df.index)] = ['Amy', 89, 93] \n",
    "  \n",
    "display(df)"
   ]
  },
  {
   "cell_type": "code",
   "execution_count": null,
   "id": "96e90d97",
   "metadata": {},
   "outputs": [],
   "source": []
  }
 ],
 "metadata": {
  "kernelspec": {
   "display_name": "Python 3 (ipykernel)",
   "language": "python",
   "name": "python3"
  },
  "language_info": {
   "codemirror_mode": {
    "name": "ipython",
    "version": 3
   },
   "file_extension": ".py",
   "mimetype": "text/x-python",
   "name": "python",
   "nbconvert_exporter": "python",
   "pygments_lexer": "ipython3",
   "version": "3.11.3"
  }
 },
 "nbformat": 4,
 "nbformat_minor": 5
}
