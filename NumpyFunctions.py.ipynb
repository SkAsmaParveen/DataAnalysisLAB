{
 "cells": [
  {
   "cell_type": "code",
   "execution_count": 115,
   "id": "3690056b",
   "metadata": {},
   "outputs": [
    {
     "name": "stdout",
     "output_type": "stream",
     "text": [
      "[0. 0. 0. 0.]\n",
      "[1. 1. 1. 1.]\n",
      "[3 3 3 3]\n",
      "\n",
      "\n",
      "[[1 0 0]\n",
      " [0 1 0]\n",
      " [0 0 1]]\n",
      "\n",
      "\n",
      "[1 3 5 7 9]\n",
      "[ 1.   5.5 10. ]\n"
     ]
    }
   ],
   "source": [
    "# creating arrays\n",
    "\n",
    "import numpy as np\n",
    "\n",
    "a = np.array([2,3,4,6])\n",
    "\n",
    "print(np.zeros(a.shape))\n",
    "\n",
    "print(np.ones(a.shape))\n",
    "\n",
    "print(np.full((a.shape),3)) # np.full(shape,element to full)\n",
    "print(\"\\n\")\n",
    "print(np.eye(3,dtype=\"int\")) # np.eye(no.of rows) creates Identity matrix\n",
    "print(\"\\n\")\n",
    "v1 = np.arange(1,10,2) # np.arange(start, stop, size.ofsteps)\n",
    "print(v1)\n",
    "\n",
    "print(np.linspace(1,10,3)) # np.linspace(start, stop, no. of steps)"
   ]
  },
  {
   "cell_type": "code",
   "execution_count": 116,
   "id": "c26f8724",
   "metadata": {},
   "outputs": [
    {
     "name": "stdout",
     "output_type": "stream",
     "text": [
      "[[0.3170819  0.81426198 0.64971665]\n",
      " [0.70422824 0.23472242 0.53110191]]\n",
      "[ 2.77910078  2.849372   -6.93000204 -4.83176476  0.46859211  9.36901298\n",
      "  0.59530965  1.49657674  3.21242086  2.15207558]\n",
      "[[ 3 14]\n",
      " [18 16]]\n",
      "[ 1.   5.5 10. ]\n",
      "[2.  4.6 6. ]\n",
      "[[2 3 4]\n",
      " [1 2 3]]\n"
     ]
    }
   ],
   "source": [
    "# numpy.random.random() is one of the function for doing random sampling in numpy. \n",
    "# It returns an array of specified shape \n",
    "# and fills it with random floats in the half-open interval [0.0, 1.0).\n",
    "\n",
    "print(np.random.random((2,3))) # np.random.random(size)\n",
    "\n",
    "# normally distributed random values\n",
    "\n",
    "print(np.random.normal(1,5,10)) # np.random.normal(mean, stdev, size or shape) displays random values in gaussian distribution\n",
    "\n",
    "print(np.random.randint(2,20,(2,2))) # np.random.randint(low, high, size or shape of matrix)\n",
    "\n",
    "#create an uninitialized array of 3 elements\n",
    "a = np.empty(3)\n",
    "print(a)\n",
    "\n",
    "print(np.array([2,4.6,6]))\n",
    "\n",
    "#Nested sequences\n",
    "\n",
    "l1=[2,3,4]\n",
    "l2=[1,2,3]\n",
    "a=np.array((l1,l2))\n",
    "print(a)"
   ]
  },
  {
   "cell_type": "code",
   "execution_count": null,
   "id": "b7701c67",
   "metadata": {},
   "outputs": [],
   "source": []
  },
  {
   "cell_type": "code",
   "execution_count": null,
   "id": "d37b945b",
   "metadata": {},
   "outputs": [],
   "source": [
    "import numpy as np\n",
    "# Type casting\n",
    "\n",
    "a = np.array([1,2,3],dtype = \"int\")\n",
    "print(\"The array of integer type: \",a)\n",
    "a2 = a.astype(float)\n",
    "print(\"The array after Type casting : \",a2"
   ]
  },
  {
   "cell_type": "code",
   "execution_count": 4,
   "id": "ce21da13",
   "metadata": {},
   "outputs": [
    {
     "name": "stdout",
     "output_type": "stream",
     "text": [
      "[[ 2  4  6]\n",
      " [ 8 10 12]]\n",
      "[[-9 -8 -7]\n",
      " [-6 -5 -4]]\n",
      "[[10 20 30]\n",
      " [40 50 60]]\n",
      "[[0.1 0.2 0.3]\n",
      " [0.4 0.5 0.6]]\n"
     ]
    }
   ],
   "source": [
    "# arithmetic operations\n",
    "\n",
    "a = np.array([[1,2,3],[4,5,6]])\n",
    "print(a+a)\n",
    "print(a-10)\n",
    "print(a*10)\n",
    "print(a/10)\n"
   ]
  },
  {
   "cell_type": "code",
   "execution_count": 7,
   "id": "63d712be",
   "metadata": {},
   "outputs": [
    {
     "name": "stdout",
     "output_type": "stream",
     "text": [
      "a@b is : \n",
      " [[18 16]\n",
      " [48 40]]\n",
      "np.matmul(a,b) is: \n",
      " [[18 16]\n",
      " [48 40]]\n",
      "np.dot(a,b) is: \n",
      " [[18 16]\n",
      " [48 40]]\n"
     ]
    }
   ],
   "source": [
    "# matrix multiplication using diff functions\n",
    "\n",
    "a = np.array([[1,2,3],[4,5,6]]) # 2*3\n",
    "b = np.array([[3,2],[6,4],[1,2]]) # 3*2\n",
    "\n",
    "print(\"a@b is : \\n\",a@b)\n",
    "print(\"np.matmul(a,b) is: \\n\",np.matmul(a,b))\n",
    "print(\"np.dot(a,b) is: \\n\",np.dot(a,b))\n"
   ]
  },
  {
   "cell_type": "code",
   "execution_count": 21,
   "id": "2b83039b",
   "metadata": {},
   "outputs": [
    {
     "name": "stdout",
     "output_type": "stream",
     "text": [
      "2\n",
      "[1 2 3]\n",
      "[ 1  2 44 32]\n",
      "---------\n",
      "1\n",
      "44\n",
      "[[1 2 3]\n",
      " [4 5 6]]\n",
      "********\n",
      "2\n",
      "6\n",
      "[[[1 2 3]\n",
      "  [4 5 6]\n",
      "  [7 8 9]]\n",
      "\n",
      " [[3 5 4]\n",
      "  [3 2 1]\n",
      "  [0 9 8]]]\n",
      "--------\n",
      "a[0,0,2] is :  3\n",
      "[[3 5 4]\n",
      " [3 2 1]\n",
      " [0 9 8]]\n"
     ]
    }
   ],
   "source": [
    "#Basic Indexing and Slicing#\n",
    "\n",
    "# array slices are views on the original array\n",
    "#This means that the data is not copied, and any modifications\n",
    "#to the view will be reflected in the source array.\n",
    "\n",
    "\n",
    "a = np.array([[1,2,3],[4,5,6]])\n",
    "print(a[0,1])\n",
    "temp = a[0].copy() # used for shallow copying\n",
    "print(temp)\n",
    "\n",
    "# 1d array indexing\n",
    "\n",
    "a = np.array([1,2,44,32])\n",
    "print(a)\n",
    "print('---------')\n",
    "print(a[0])\n",
    "print(a[2])\n",
    "\n",
    "# 2d array indexing\n",
    "\n",
    "a = np.array([[1,2,3],[4,5,6]])\n",
    "print(a)\n",
    "print('********')\n",
    "print(a[0,1])\n",
    "print(a[1,2])\n",
    "\n",
    "# 3d array indexing\n",
    "\n",
    "a = np.array([[[1,2,3],[4,5,6],[7,8,9]],\n",
    "              [[3,5,4],[3,2,1],[0,9,8]]])\n",
    "print(a)\n",
    "print('--------')\n",
    "print(\"a[0,0,2] is : \",a[0,0,2])"
   ]
  },
  {
   "cell_type": "code",
   "execution_count": 16,
   "id": "f4fb5228",
   "metadata": {},
   "outputs": [
    {
     "name": "stdout",
     "output_type": "stream",
     "text": [
      "[1 2 3 4 5 6 7 8 9]\n",
      "[4 5 6 7]\n",
      "[1 2 3 4 5 6 7 8 9] [4 5 6 7]\n",
      "[33 33 33 33] [ 1  2  3 33 33 33 33  8  9]\n"
     ]
    }
   ],
   "source": [
    "#slicing\n",
    "# There are many ways you may want to select a subset of your data or individual elements\n",
    "\n",
    "a = np.arange(1,10)\n",
    "print(a)\n",
    "\n",
    "#if you assign a scalar value to a slice, as in arr[5:8] = 12, the value is\n",
    "#propagated to the entire selection\n",
    "\n",
    "a2 = a[3:7] # index[start:stop-1]\n",
    "print(a2)\n",
    "\n",
    "print(a,a2)\n",
    "a2[:] = 33\n",
    "print(a2,a)"
   ]
  },
  {
   "cell_type": "code",
   "execution_count": 31,
   "id": "ad031c3c",
   "metadata": {},
   "outputs": [
    {
     "name": "stdout",
     "output_type": "stream",
     "text": [
      "[[1 2 3]\n",
      " [4 5 6]\n",
      " [7 8 9]]\n",
      "[[1]\n",
      " [4]]\n",
      "[4 5]\n",
      "[7]\n",
      "----\n",
      "columns\n",
      "[2 5 8] 3 (3,)\n",
      "[[1 2]\n",
      " [4 5]\n",
      " [7 8]] 6 (3, 2) 2\n",
      "[3 6 9] 3 (3,) 1\n",
      "[[3]\n",
      " [6]\n",
      " [9]] 3 (3, 1) 2\n"
     ]
    }
   ],
   "source": [
    "a=np.array([[1, 2, 3],\n",
    "            [4, 5, 6],\n",
    "            [7, 8, 9]])\n",
    "print(a)\n",
    "print(a[:2,:1])\n",
    "print(a[1,:2])\n",
    "print(a[2,:1])\n",
    "print('----')\n",
    "\n",
    "b=a[:,1]\n",
    "print(\"columns\")\n",
    "print(b,b.size, b.shape)\n",
    "c=a[:,:2]\n",
    "print(c,c.size, c.shape,c.ndim)\n",
    "c=a[:,2]\n",
    "print(c,c.size, c.shape,c.ndim)\n",
    "d=a[:,2:]\n",
    "print(d,d.size,d.shape,d.ndim)\n"
   ]
  },
  {
   "cell_type": "code",
   "execution_count": 39,
   "id": "8e0bc57a",
   "metadata": {},
   "outputs": [
    {
     "name": "stdout",
     "output_type": "stream",
     "text": [
      "['Bob' 'Joe' 'Will' 'Bob' 'Will'] <U4 [[-1.93605614 -0.26040153  0.73140743  2.1328136 ]\n",
      " [ 0.41665114 -1.21666993 -1.08323935  0.11922547]\n",
      " [ 0.82499181  0.48003177 -0.16985182  0.70259408]\n",
      " [ 0.68678545 -0.62298096 -1.06772088  0.60560198]\n",
      " [ 0.51459813  2.01898141 -0.52056716  0.66084522]] float64\n",
      "[ True False False  True False]\n",
      "[[-1.93605614 -0.26040153  0.73140743  2.1328136 ]\n",
      " [ 0.68678545 -0.62298096 -1.06772088  0.60560198]]\n",
      "[False  True  True False  True]\n",
      "mask=    [ True False  True  True  True]\n",
      "[-1.93605614 -0.26040153 -1.21666993 -1.08323935 -0.16985182 -0.62298096\n",
      " -1.06772088 -0.52056716]\n",
      "[[0.         0.         0.73140743 2.1328136 ]\n",
      " [0.41665114 0.         0.         0.11922547]\n",
      " [0.82499181 0.48003177 0.         0.70259408]\n",
      " [0.68678545 0.         0.         0.60560198]\n",
      " [0.51459813 2.01898141 0.         0.66084522]]\n"
     ]
    }
   ],
   "source": [
    "import numpy as np\n",
    "names = np.array(['Bob', 'Joe', 'Will', 'Bob', 'Will'])\n",
    "\n",
    "data = np.random.randn(5, 4) \n",
    "# array of defined shape filled with random floating point samples from std normal dist\n",
    "\n",
    "print(names,names.dtype,data,data.dtype)\n",
    "print(names == 'Bob')\n",
    "print(data[names=='Bob'])\n",
    "print(names != 'Bob')\n",
    "\n",
    "mask = (names == 'Bob') | (names == 'Will')\n",
    "print('mask=   ',mask)\n",
    "\n",
    "print(data[data<0])\n",
    "\n",
    "#set all of the negative values in data to 0 we need only do\n",
    "\n",
    "data[data<0]=0\n",
    "print(data)\n",
    "#The boolean array must be of the same length as the axis it’s indexing"
   ]
  },
  {
   "cell_type": "code",
   "execution_count": 44,
   "id": "9ed90369",
   "metadata": {},
   "outputs": [
    {
     "name": "stdout",
     "output_type": "stream",
     "text": [
      "[232   3   5]\n",
      "[  1   3   5 232 666]\n",
      "[[ 0  1  2  3]\n",
      " [ 4  5  6  7]\n",
      " [ 8  9 10 11]\n",
      " [12 13 14 15]\n",
      " [16 17 18 19]\n",
      " [20 21 22 23]\n",
      " [24 25 26 27]\n",
      " [28 29 30 31]]\n",
      "\n",
      "\n",
      " -----\n",
      "[ 4 23 29 10]\n"
     ]
    }
   ],
   "source": [
    "# fancy indexing :\n",
    "# it allows to use an array of indices to access multiple array elemets at once\n",
    "\n",
    "a = np.array([1,232,3,5,666])\n",
    "# print(a[1,2,3]) returns error\n",
    "\n",
    "print(a[[1,2,3]]) #np.argsort sorts the elements and return their sorted indices\n",
    "print(a[np.argsort(a)])\n",
    "\n",
    "#Multiple index arrays - selects a one dimensional array of elements corresponding to each tuple of indices.\n",
    "#regardless of no of dimensions of the array, the result is one-dimensional\n",
    "\n",
    "a= np.arange(32).reshape(8,4)\n",
    "\n",
    "print(a)\n",
    "print('\\n\\n -----')\n",
    "print(a[[1,5,7,2],[0,3,1,2]]) # [1,5,7,2] rows [0,3,1,2] colum eles are returned\n"
   ]
  },
  {
   "cell_type": "code",
   "execution_count": 120,
   "id": "b5e9ea70",
   "metadata": {},
   "outputs": [
    {
     "name": "stdout",
     "output_type": "stream",
     "text": [
      "[51 66  4  3  2  1]\n",
      "[ 1  2  3  4 66 51]\n",
      "[ 2  3  4 66]\n",
      "\n",
      "\n"
     ]
    }
   ],
   "source": [
    "#slicing\n",
    "\n",
    "s = np.array([1,2,3,4,66,51])  # 1d array slicing\n",
    "s[2:5:1]  # x[i : j-1: k]\n",
    "\n",
    "#both are same\n",
    "\n",
    "print(s[::-1])\n",
    "print(s[:])\n",
    "\n",
    "print(s[1:-1])\n",
    "\n",
    "print(\"\\n\")"
   ]
  },
  {
   "cell_type": "code",
   "execution_count": 46,
   "id": "4296efff",
   "metadata": {},
   "outputs": [
    {
     "name": "stdout",
     "output_type": "stream",
     "text": [
      "matrix= \n",
      " [[ 0  1  2  3  4]\n",
      " [ 5  6  7  8  9]\n",
      " [10 11 12 13 14]]\n",
      "transpose=\n",
      "  [[ 0  5 10]\n",
      " [ 1  6 11]\n",
      " [ 2  7 12]\n",
      " [ 3  8 13]\n",
      " [ 4  9 14]]\n"
     ]
    }
   ],
   "source": [
    "#transposing arrays and swapping Axes\n",
    "#transposing is a special form of reshaping that similarly returns a view on the underlying data without copying anything\n",
    "#Arrays have the transpose method and also the special T attribute. used for inner matrix product\n",
    "import numpy as np\n",
    "a=np.arange(15).reshape((3,5))\n",
    "print('matrix= \\n',a)\n",
    "\n",
    "print('transpose=\\n ',a.T)\n"
   ]
  },
  {
   "cell_type": "code",
   "execution_count": 47,
   "id": "2775bd98",
   "metadata": {},
   "outputs": [
    {
     "name": "stdout",
     "output_type": "stream",
     "text": [
      "new mat=  [[ 0  1  2  3  4  5]\n",
      " [ 6  7  8  9 10 11]\n",
      " [12 13 14 15 16 17]]\n",
      "dot product\n",
      "\n",
      "[[180 198 216 234 252 270]\n",
      " [198 219 240 261 282 303]\n",
      " [216 240 264 288 312 336]\n",
      " [234 261 288 315 342 369]\n",
      " [252 282 312 342 372 402]\n",
      " [270 303 336 369 402 435]]\n",
      "product\n",
      "[[  55  145  235]\n",
      " [ 145  451  757]\n",
      " [ 235  757 1279]]\n"
     ]
    }
   ],
   "source": [
    "a1=np.arange(18).reshape((3,6))\n",
    "print('new mat= ',a1)\n",
    "print('dot product\\n')\n",
    "print(np.dot(a1.T,a1))\n",
    "print('product')\n",
    "print(a1@a1.T)"
   ]
  },
  {
   "cell_type": "code",
   "execution_count": 55,
   "id": "ec254887",
   "metadata": {},
   "outputs": [
    {
     "name": "stdout",
     "output_type": "stream",
     "text": [
      "np.dot(a,b):  [[14 11]\n",
      " [32 26]]\n",
      "np.transpose(a):  [[1 4]\n",
      " [2 5]\n",
      " [3 6]]\n",
      "The inverse of a is: np.linalg.inv(c) : \n",
      "\n",
      "[[-1.11111111 -0.11111111  0.72222222]\n",
      " [ 0.88888889  0.22222222 -0.61111111]\n",
      " [-0.11111111 -0.11111111  0.22222222]]\n",
      "The det of c is np.linalg.det(c): \n",
      "\n",
      "-54.00000000000001\n"
     ]
    }
   ],
   "source": [
    "# matrix operations\n",
    "\n",
    "a = np.array([[1,2,3],[4,5,6]])\n",
    "b = np.array([[1,1],[2,2],[3,2]])\n",
    "c= np.array([[1,3,5],[7,9,2],[4,6,8]])\n",
    "\n",
    "print(\"np.dot(a,b): \",np.dot(a,b))\n",
    "print(\"np.transpose(a): \",np.transpose(a))\n",
    "print(\"The inverse of a is: np.linalg.inv(c) : \\n\")\n",
    "print(np.linalg.inv(c))\n",
    "print(\"The det of c is np.linalg.det(c): \\n\")\n",
    "print(np.linalg.det(c))\n",
    "\n"
   ]
  },
  {
   "cell_type": "code",
   "execution_count": 76,
   "id": "2b8c61f3",
   "metadata": {},
   "outputs": [
    {
     "name": "stdout",
     "output_type": "stream",
     "text": [
      "[ 1  1  2  4  2 33]\n",
      "[[1 2 4]\n",
      " [3 4 5]\n",
      " [1 2 2]]\n",
      "\n",
      "\n",
      "[[ 1 22  2  4]\n",
      " [ 3 22  4  5]\n",
      " [ 1 22  2  2]]\n",
      "-----\n",
      "[[ 1  2  4]\n",
      " [ 0 23 90]\n",
      " [ 3  4  5]\n",
      " [ 1  2  2]]\n",
      "-------\n",
      "[[ 1  2  4]\n",
      " [ 0 23 90]\n",
      " [ 3  4  5]\n",
      " [ 0 23 90]\n",
      " [ 1  2  2]]\n"
     ]
    }
   ],
   "source": [
    "# array manipulation routines\n",
    "\n",
    "a = np.array([1,1,2,2,33])\n",
    "print(np.insert(a,3,4))\n",
    "\n",
    "a = np.array([[1,2,4],[3,4,5],[1,2,2]])\n",
    "print(a)\n",
    "print(\"\\n\")\n",
    "\n",
    "\n",
    "# np.insert(array, index, element or array to insert)\n",
    "\n",
    "print(np.insert(a,1,22,axis=1)) # axis=1 column wise and axis = 0 row wise\n",
    "print('-----')\n",
    "print(np.insert(a,1,[0,23,90],axis =0))\n",
    "\n",
    "print('-------')\n",
    "print(np.insert(a,[1,2],[0,23,90],axis =0))"
   ]
  },
  {
   "cell_type": "code",
   "execution_count": 81,
   "id": "f58c07d1",
   "metadata": {},
   "outputs": [
    {
     "name": "stdout",
     "output_type": "stream",
     "text": [
      "[ 1  2  3  4  5  6 11 22 33 44 55 66]\n",
      "------\n",
      "[[ 1  2]\n",
      " [ 3  4]\n",
      " [ 5  6]\n",
      " [11 22]\n",
      " [33 44]\n",
      " [55 66]]\n"
     ]
    }
   ],
   "source": [
    "a=np.array([[1,2],[3,4],[5,6]])\n",
    "b=np.array([[11,22],[33,44],[55,66]])\n",
    "\n",
    "d=np.append(a,b)\n",
    "print(d)\n",
    "print('------')\n",
    "z=np.concatenate((a,b)) # joins the sequence of arrays along the existing axis\n",
    "print(z)"
   ]
  },
  {
   "cell_type": "code",
   "execution_count": 91,
   "id": "acbf2bde",
   "metadata": {},
   "outputs": [
    {
     "name": "stdout",
     "output_type": "stream",
     "text": [
      "[0 1 2 3 4 5 6 7 8 9]\n",
      "\n",
      "\n",
      "[0.   1.   1.41 1.73 2.   2.24 2.45 2.65 2.83 3.  ]\n",
      "-----\n",
      "[1.00000000e+00 2.71828183e+00 7.38905610e+00 2.00855369e+01\n",
      " 5.45981500e+01 1.48413159e+02 4.03428793e+02 1.09663316e+03\n",
      " 2.98095799e+03 8.10308393e+03]\n",
      "----\n",
      "[ 3.04649197  0.55815969 -0.97074455  0.14571342 -1.1409859   1.27488432\n",
      "  0.70286475 -0.70400927]\n",
      "\n",
      "\n",
      "[-1.51474184 -0.40229247  1.54199787 -1.0951092   0.26887289  0.43106821\n",
      " -0.18238634 -0.51830345]\n",
      "\n",
      "\n",
      "[ 3.04649197  0.55815969  1.54199787  0.14571342  0.26887289  1.27488432\n",
      "  0.70286475 -0.51830345]\n",
      "[ 5.7166072   5.83012781 -1.92047213 -4.13045886 -5.35947217]\n",
      "------\n",
      "\n",
      "[ 0.7166072   0.83012781 -0.92047213 -0.13045886 -0.35947217]\n",
      "[ 5.  5. -1. -4. -5.]\n"
     ]
    }
   ],
   "source": [
    "\n",
    "#unary ufunc\n",
    "a=np.arange(10)\n",
    "print(a)\n",
    "print(\"\\n\")\n",
    "print(np.round_(np.sqrt(a),2))\n",
    "print(\"-----\")\n",
    "print(np.exp(a))\n",
    "print(\"----\")\n",
    "\n",
    "#binary ufunc\n",
    "\n",
    "#np.maximum computes element wise maximum\n",
    "\n",
    "#fmax ignores NaN\n",
    "a=np.random.randn(8)\n",
    "b=np.random.randn(8)\n",
    "print(a)\n",
    "print(\"\\n\")\n",
    "print(b)\n",
    "print(\"\\n\")\n",
    "print(np.maximum(a,b))\n",
    "\n",
    "#modf returns the fractional and integral parts of floating point array\n",
    "\n",
    "a=np.random.randn(5)*5\n",
    "print(a)\n",
    "print('------\\n')\n",
    "rem,whole=np.modf(a)\n",
    "print(rem)\n",
    "print(whole)"
   ]
  },
  {
   "cell_type": "code",
   "execution_count": 92,
   "id": "076a4360",
   "metadata": {},
   "outputs": [
    {
     "name": "stdout",
     "output_type": "stream",
     "text": [
      "-0.032057368515326624\n",
      "-0.032057368515326624\n",
      "-0.6411473703065325\n",
      "8\n",
      "-3\n",
      "25\n",
      "3.125\n",
      "[3.5 4. ]\n",
      "3.550968177835448\n",
      "[0.5 2. ]\n",
      "-0.29979036793104413\n",
      "-0.29979036793104413\n",
      "-5.995807358620882\n"
     ]
    },
    {
     "data": {
      "text/plain": [
       "array([ 1.29240705,  0.59486525, -6.06901991, -1.81405975])"
      ]
     },
     "execution_count": 92,
     "metadata": {},
     "output_type": "execute_result"
    }
   ],
   "source": [
    "#mathematical and statistical methods\n",
    "#use aggregations like sum, mean and std either by calling the array instance method or using the top-level numPy function.\n",
    "\n",
    "a=np.random.randn(5,4)\n",
    "print(a.mean())\n",
    "print(np.mean(a))\n",
    "print(np.sum(a))\n",
    "\n",
    "# mean and sum take an optyional axis argument that computes the statistic over the given axis, resulting in an array with one fewer dimension\n",
    "a.mean(axis=1)\n",
    "a.sum(axis=0)\n",
    "\n",
    "a = np.array([1,0,2,-3,6,8,4,7])\n",
    "b = np.array([[3,6],[4,2]])\n",
    "print(a.max())\n",
    "print(a.min())\n",
    "print(a.sum())\n",
    "print(a.mean())\n",
    "print(b.mean(axis=0))\n",
    "print(a.std())\n",
    "print(b.std(axis=0))\n",
    "#mathematical and statistical methods\n",
    "#use aggregations like sum, mean and std either by calling the array instance method or using the top-level numPy function.\n",
    "\n",
    "a=np.random.randn(5,4)\n",
    "print(a.mean())\n",
    "print(np.mean(a))\n",
    "print(np.sum(a))\n",
    "\n",
    "# mean and sum take an optyional axis argument that computes the statistic over the given axis, resulting in an array with one fewer dimension\n",
    "a.mean(axis=1)\n",
    "a.sum(axis=0)"
   ]
  },
  {
   "cell_type": "code",
   "execution_count": 95,
   "id": "54429656",
   "metadata": {},
   "outputs": [
    {
     "name": "stdout",
     "output_type": "stream",
     "text": [
      "[[3 4]\n",
      " [5 6]\n",
      " [7 8]]\n"
     ]
    }
   ],
   "source": [
    "#Broadcasting\n",
    "\n",
    "# It describes how NumPy treats arrays with different shapes during arithmetic operations \n",
    "# subject to certain constraints the smaller array is \"broadcast \" across the large array so that they have \n",
    "# compatible shapes\n",
    "\n",
    "\n",
    "import numpy as np\n",
    "a=np.array([[1,2],[3,4],[5,6]])\n",
    "b=2\n",
    "print(a+b)"
   ]
  },
  {
   "cell_type": "code",
   "execution_count": 101,
   "id": "0348575a",
   "metadata": {},
   "outputs": [
    {
     "name": "stdout",
     "output_type": "stream",
     "text": [
      "[[ 8  4]\n",
      " [10  6]\n",
      " [12  8]]\n",
      "(3, 2) (4,) (1,)\n",
      "[[ 8  9]\n",
      " [10 11]\n",
      " [12 13]]\n",
      "[[ 9 10]\n",
      " [11 12]\n",
      " [13 14]]\n"
     ]
    }
   ],
   "source": [
    "#Broadcasting\n",
    "import numpy as np\n",
    "a=np.array([[1,2],[3,4],[5,6]])\n",
    "b=np.array([1,2,3,4])\n",
    "c=7\n",
    "d=np.array([8])\n",
    "e = np.array([7,2])\n",
    "print(a+e)\n",
    "print(a.shape,b.shape,d.shape)\n",
    "#print(a+b)\n",
    "print(a+c)\n",
    "print(a+d)"
   ]
  },
  {
   "cell_type": "code",
   "execution_count": 113,
   "id": "6019bba5",
   "metadata": {},
   "outputs": [
    {
     "name": "stdout",
     "output_type": "stream",
     "text": [
      "1 2\n",
      "(4,) (4, 1)\n",
      "[[2 3 4 5]\n",
      " [3 4 5 6]\n",
      " [4 5 6 7]\n",
      " [5 6 7 8]]\n"
     ]
    }
   ],
   "source": [
    "#Broadcasting\n",
    "import numpy as np\n",
    "#a=np.array([[1,2],[3,4],[5,6]])\n",
    "a=np.array([1,2,3,4])\n",
    "#b=np.array([[1,2,3,4],[5,6,7,8],[2,4,6,8]])\n",
    "#b=np.array([[1],[2],[3]])\n",
    "b=np.array([[1],[2],[3],[4]])\n",
    "print(a.ndim,b.ndim)\n",
    "print(a.shape,b.shape)\n",
    "print(a+b)"
   ]
  },
  {
   "cell_type": "code",
   "execution_count": null,
   "id": "ef4de60e",
   "metadata": {},
   "outputs": [],
   "source": []
  },
  {
   "cell_type": "code",
   "execution_count": null,
   "id": "5321dd22",
   "metadata": {},
   "outputs": [],
   "source": []
  },
  {
   "cell_type": "code",
   "execution_count": null,
   "id": "5e20d735",
   "metadata": {},
   "outputs": [],
   "source": []
  },
  {
   "cell_type": "code",
   "execution_count": null,
   "id": "d4ffaf75",
   "metadata": {},
   "outputs": [],
   "source": []
  },
  {
   "cell_type": "code",
   "execution_count": 105,
   "id": "b688be3c",
   "metadata": {},
   "outputs": [
    {
     "name": "stdout",
     "output_type": "stream",
     "text": [
      "[1 2 3 4 5]\n",
      "\n",
      " No of dimensions =  1 \n",
      " shape = (5,) \n",
      " size =  5 \n",
      " data type =  int32 \n",
      " size of element =  4 \n",
      " total size=  20\n",
      "2134580991984\n",
      "2134580995792\n",
      "2134580991984\n",
      "2134580995792\n",
      "2134580991984\n",
      "------\n",
      "2134582206192\n",
      "[1 2]\n",
      "2134582206192\n",
      "[1 2]\n",
      "2134582206192\n",
      "[3 4]\n",
      "2134582206192\n",
      "[3 4]\n",
      "2134582206192\n",
      "[5 6]\n",
      "2134582206192\n",
      "[5 6]\n"
     ]
    }
   ],
   "source": [
    "import numpy as np\n",
    "a=np.array([1,2,3,4,5])\n",
    "print(a)\n",
    "print('\\n No of dimensions = ',a.ndim,'\\n',\n",
    "       'shape =', a.shape,'\\n',\n",
    "       'size = ', a.size,'\\n',\n",
    "       'data type = ',a.dtype,'\\n',\n",
    "       'size of element = ',a.itemsize,'\\n',\n",
    "       'total size= ',a.nbytes)\n",
    "for i in range(a.size):\n",
    "    print(id(a[i]))\n",
    "    \n",
    "print(\"------\")\n",
    "import numpy as np\n",
    "a=np.array([[1,2],[3,4],[5,6]])\n",
    "for i in range(3):\n",
    "    for j in range(2):\n",
    "        print(id(a[i]))\n",
    "        "
   ]
  },
  {
   "cell_type": "code",
   "execution_count": 106,
   "id": "133a4f8d",
   "metadata": {},
   "outputs": [
    {
     "name": "stdout",
     "output_type": "stream",
     "text": [
      "[[ 1  2]\n",
      " [ 3  4]\n",
      " [ 5  6]\n",
      " [ 7  8]\n",
      " [ 9 10]\n",
      " [11 12]\n",
      " [13 14]\n",
      " [15 16]\n",
      " [17 18]\n",
      " [19 20]\n",
      " [21 22]\n",
      " [23 24]] 2 24 (12, 2)\n",
      "\n",
      "  vsplit  \n",
      "\n",
      "[array([[1, 2],\n",
      "       [3, 4],\n",
      "       [5, 6],\n",
      "       [7, 8]]), array([[ 9, 10],\n",
      "       [11, 12],\n",
      "       [13, 14],\n",
      "       [15, 16]]), array([[17, 18],\n",
      "       [19, 20],\n",
      "       [21, 22],\n",
      "       [23, 24]])]\n",
      "\n",
      "  vsplit  \n",
      "\n",
      "[array([[1, 2],\n",
      "       [3, 4],\n",
      "       [5, 6]]), array([[7, 8]]), array([[ 9, 10],\n",
      "       [11, 12],\n",
      "       [13, 14],\n",
      "       [15, 16],\n",
      "       [17, 18],\n",
      "       [19, 20],\n",
      "       [21, 22],\n",
      "       [23, 24]])]\n"
     ]
    }
   ],
   "source": [
    "#splitting arrays\n",
    "import numpy as np\n",
    "a=np.arange(1,25).reshape(12,2)\n",
    "print(a, a.ndim,a.size,a.shape)\n",
    "print('\\n  vsplit  \\n')\n",
    "#hsplit -  split into equally shaped arrays\n",
    "print(np.vsplit(a,3))\n",
    "\n",
    "print('\\n  vsplit  \\n')\n",
    "print(np.vsplit(a,(3,4)))"
   ]
  },
  {
   "cell_type": "code",
   "execution_count": 121,
   "id": "225ca3bb",
   "metadata": {},
   "outputs": [
    {
     "name": "stdout",
     "output_type": "stream",
     "text": [
      "To create an array from existing data: Indexing, Slicing, hstack, vstack, hsplit, view, copy \n",
      "\n",
      "\n",
      "[1 3 5 7 9]\n",
      "[10 12 14 16 18]\n",
      "stacking vertically:   [[ 1  3  5  7  9]\n",
      " [10 12 14 16 18]]\n",
      "[1. 1. 1. 1. 1.]\n",
      "[0. 0. 0. 0. 0.]\n",
      "Stacking Horizontally:  [1. 1. 1. 1. 1. 0. 0. 0. 0. 0.]\n",
      "[[1 1]\n",
      " [2 2]] [[3 3]\n",
      " [4 4]]\n",
      "\n",
      " vstack \n",
      "\n",
      "[[1 1]\n",
      " [2 2]\n",
      " [3 3]\n",
      " [4 4]]\n",
      "\n",
      " hstack \n",
      "\n",
      "[[1 1 3 3]\n",
      " [2 2 4 4]]\n"
     ]
    }
   ],
   "source": [
    "#stacking arrays\n",
    "\n",
    "print(\"To create an array from existing data: Indexing, Slicing, hstack, vstack, hsplit, view, copy \")\n",
    "\n",
    "print(\"\\n\")\n",
    "\n",
    "v1 = np.arange(1,10,2)\n",
    "print(v1)\n",
    "v2 = np.arange(10,20,2)\n",
    "print(v2)\n",
    "print(\"stacking vertically:  \",np.vstack((v1,v2))) # no.of elements must be same in two arrays\n",
    "\n",
    "h1 = np.ones(v1.shape)\n",
    "print(h1)\n",
    "h2 = np.zeros(v2.shape)\n",
    "print(h2)\n",
    "print(\"Stacking Horizontally: \",np.hstack((h1,h2)))\n",
    "\n",
    "a1=np.array([[1,1],[2,2]])\n",
    "a2=np.array([[3,3],[4,4]])\n",
    "print(a1,a2)\n",
    "print('\\n vstack \\n')\n",
    "print(np.vstack((a1,a2)))\n",
    "print('\\n hstack \\n')\n",
    "print(np.hstack((a1,a2)))"
   ]
  },
  {
   "cell_type": "code",
   "execution_count": 108,
   "id": "c3ce44a5",
   "metadata": {},
   "outputs": [
    {
     "name": "stdout",
     "output_type": "stream",
     "text": [
      "[ 1  2  3  5  6  7  8 10]\n",
      "[[1 4]\n",
      " [3 2]]\n",
      "\n",
      "  axis = None \n",
      "\n",
      "[1 2 3 4]\n",
      "\n",
      "  axis = 0 \n",
      "\n",
      "[[1 4]\n",
      " [2 3]]\n",
      "\n",
      "  axis = 1 \n",
      "\n",
      "\n",
      " array \n",
      "\n",
      "[[ 9  4]\n",
      " [13  2]] \n",
      "\n",
      "[[ 4  9]\n",
      " [ 2 13]]\n"
     ]
    }
   ],
   "source": [
    "#sorting\n",
    "a=np.array([10,6,3,8,2,1,7,5])\n",
    "print(np.sort(a))\n",
    "a=np.array([[1,4],[3,2]])\n",
    "print(a)\n",
    "print('\\n  axis = None \\n')\n",
    "      \n",
    "print(np.sort(a,axis=None))\n",
    "\n",
    "print('\\n  axis = 0 \\n')\n",
    "print(np.sort(a))\n",
    "\n",
    "print('\\n  axis = 1 \\n')\n",
    "b=np.array([[9,4],[13,2]])\n",
    "print('\\n array \\n')\n",
    "print(b,'\\n')\n",
    "print(np.sort(b,axis=1))"
   ]
  },
  {
   "cell_type": "code",
   "execution_count": 109,
   "id": "c59b3787",
   "metadata": {},
   "outputs": [
    {
     "name": "stdout",
     "output_type": "stream",
     "text": [
      "[4 8 1 5 2 9]\n",
      "[[4 2 6]\n",
      " [5 9 3]]\n",
      "[[6 2 4]\n",
      " [3 9 5]]\n",
      "[[5 9 3]\n",
      " [4 2 6]]\n"
     ]
    }
   ],
   "source": [
    "#Reverse an array\n",
    "a=[9,2,5,1,8,4]\n",
    "print(np.flip(a))\n",
    "#Reverse only rows or only columns\n",
    "a=[[3,9,5],[6,2,4]]\n",
    "print(np.flip(a))\n",
    "print(np.flip(a,axis=0))\n",
    "print(np.flip(a,axis=1))"
   ]
  },
  {
   "cell_type": "code",
   "execution_count": 110,
   "id": "6abbb7d7",
   "metadata": {},
   "outputs": [
    {
     "name": "stdout",
     "output_type": "stream",
     "text": [
      "[[ 1  2  3  4]\n",
      " [ 5  6  7  8]\n",
      " [ 9 10 11 12]]\n",
      "[ 1  2  3  4  5  6  7  8  9 10 11 12]\n"
     ]
    }
   ],
   "source": [
    "#flatten\n",
    "a=np.array([[1,2,3,4],[5,6,7,8],[9,10,11,12]])\n",
    "b=a.flatten()\n",
    "\n",
    "print(a)\n",
    "print(b)"
   ]
  },
  {
   "cell_type": "code",
   "execution_count": 111,
   "id": "4496b4ac",
   "metadata": {},
   "outputs": [
    {
     "name": "stdout",
     "output_type": "stream",
     "text": [
      "2\n",
      "3\n"
     ]
    }
   ],
   "source": [
    "#Searchsorted - performs a binary search and returns the index \n",
    "#where the specified value would be inserted\n",
    "a=[2,4,7,9,12,15,17]\n",
    "b=np.searchsorted(a,7)\n",
    "print(b)\n",
    "b=np.searchsorted(a,7,side='right')\n",
    "print(b)"
   ]
  },
  {
   "cell_type": "code",
   "execution_count": 112,
   "id": "322ccaff",
   "metadata": {},
   "outputs": [
    {
     "name": "stdout",
     "output_type": "stream",
     "text": [
      "[99  2  3  4  5]\n"
     ]
    },
    {
     "ename": "ValueError",
     "evalue": "assignment destination is read-only",
     "output_type": "error",
     "traceback": [
      "\u001b[1;31m---------------------------------------------------------------------------\u001b[0m",
      "\u001b[1;31mValueError\u001b[0m                                Traceback (most recent call last)",
      "Cell \u001b[1;32mIn[112], line 6\u001b[0m\n\u001b[0;32m      4\u001b[0m \u001b[38;5;28mprint\u001b[39m(a)\n\u001b[0;32m      5\u001b[0m a\u001b[38;5;241m.\u001b[39msetflags(write\u001b[38;5;241m=\u001b[39m\u001b[38;5;28;01mFalse\u001b[39;00m)\n\u001b[1;32m----> 6\u001b[0m \u001b[43ma\u001b[49m\u001b[43m[\u001b[49m\u001b[38;5;241;43m0\u001b[39;49m\u001b[43m]\u001b[49m\u001b[38;5;241m=\u001b[39m\u001b[38;5;241m88\u001b[39m\n\u001b[0;32m      7\u001b[0m \u001b[38;5;28mprint\u001b[39m(a)\n",
      "\u001b[1;31mValueError\u001b[0m: assignment destination is read-only"
     ]
    }
   ],
   "source": [
    "#how to make numpy array immutable\n",
    "a=np.array([1,2,3,4,5])\n",
    "a[0]=99\n",
    "print(a)\n",
    "a.setflags(write=False)\n",
    "a[0]=88\n",
    "print(a)"
   ]
  },
  {
   "cell_type": "code",
   "execution_count": null,
   "id": "0e3b118a",
   "metadata": {},
   "outputs": [],
   "source": []
  },
  {
   "cell_type": "code",
   "execution_count": null,
   "id": "644108ee",
   "metadata": {},
   "outputs": [],
   "source": []
  }
 ],
 "metadata": {
  "kernelspec": {
   "display_name": "Python 3 (ipykernel)",
   "language": "python",
   "name": "python3"
  },
  "language_info": {
   "codemirror_mode": {
    "name": "ipython",
    "version": 3
   },
   "file_extension": ".py",
   "mimetype": "text/x-python",
   "name": "python",
   "nbconvert_exporter": "python",
   "pygments_lexer": "ipython3",
   "version": "3.10.8"
  }
 },
 "nbformat": 4,
 "nbformat_minor": 5
}
