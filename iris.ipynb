{
 "cells": [
  {
   "cell_type": "code",
   "execution_count": 3,
   "id": "0611b02f",
   "metadata": {},
   "outputs": [],
   "source": [
    "import numpy as np\n",
    "import pandas as pd\n"
   ]
  },
  {
   "cell_type": "code",
   "execution_count": 4,
   "id": "26b9a8f8",
   "metadata": {},
   "outputs": [
    {
     "data": {
      "text/plain": [
       "array([1.1235])"
      ]
     },
     "execution_count": 4,
     "metadata": {},
     "output_type": "execute_result"
    }
   ],
   "source": [
    "np.set_printoptions(precision=4)\n",
    "a=np.array([1.123456789])\n",
    "a"
   ]
  },
  {
   "cell_type": "markdown",
   "id": "06c83be9",
   "metadata": {},
   "source": [
    "# IRIS  Data Set"
   ]
  },
  {
   "cell_type": "markdown",
   "id": "1cebab6f",
   "metadata": {},
   "source": [
    "### 1. Load the data in the file iris.txt in a 2 D array called iris."
   ]
  },
  {
   "cell_type": "code",
   "execution_count": 17,
   "id": "32ca80fb",
   "metadata": {},
   "outputs": [
    {
     "name": "stdout",
     "output_type": "stream",
     "text": [
      "[['Id' 'SepalLengthCm' 'SepalWidthCm' 'PetalLengthCm' 'PetalWidthCm'\n",
      "  'Species']\n",
      " ['1' '5.1' '3.5' '1.4' '0.2' 'Iris-setosa']\n",
      " ['2' '4.9' '3.0' '1.4' '0.2' 'Iris-setosa']\n",
      " ['3' '4.7' '3.2' '1.3' '0.2' 'Iris-setosa']\n",
      " ['4' '4.6' '3.1' '1.5' '0.2' 'Iris-setosa']\n",
      " ['5' '5.0' '3.6' '1.4' '0.2' 'Iris-setosa']\n",
      " ['6' '5.4' '3.9' '1.7' '0.4' 'Iris-setosa']\n",
      " ['7' '4.6' '3.4' '1.4' '0.3' 'Iris-setosa']\n",
      " ['8' '5.0' '3.4' '1.5' '0.2' 'Iris-setosa']\n",
      " ['9' '4.4' '2.9' '1.4' '0.2' 'Iris-setosa']\n",
      " ['10' '4.9' '3.1' '1.5' '0.1' 'Iris-setosa']\n",
      " ['11' '5.4' '3.7' '1.5' '0.2' 'Iris-setosa']\n",
      " ['12' '4.8' '3.4' '1.6' '0.2' 'Iris-setosa']\n",
      " ['13' '4.8' '3.0' '1.4' '0.1' 'Iris-setosa']\n",
      " ['14' '4.3' '3.0' '1.1' '0.1' 'Iris-setosa']\n",
      " ['15' '5.8' '4.0' '1.2' '0.2' 'Iris-setosa']\n",
      " ['16' '5.7' '4.4' '1.5' '0.4' 'Iris-setosa']\n",
      " ['17' '5.4' '3.9' '1.3' '0.4' 'Iris-setosa']\n",
      " ['18' '5.1' '3.5' '1.4' '0.3' 'Iris-setosa']\n",
      " ['19' '5.7' '3.8' '1.7' '0.3' 'Iris-setosa']\n",
      " ['20' '5.1' '3.8' '1.5' '0.3' 'Iris-setosa']\n",
      " ['21' '5.4' '3.4' '1.7' '0.2' 'Iris-setosa']\n",
      " ['22' '5.1' '3.7' '1.5' '0.4' 'Iris-setosa']\n",
      " ['23' '4.6' '3.6' '1.0' '0.2' 'Iris-setosa']\n",
      " ['24' '5.1' '3.3' '1.7' '0.5' 'Iris-setosa']\n",
      " ['25' '4.8' '3.4' '1.9' '0.2' 'Iris-setosa']\n",
      " ['26' '5.0' '3.0' '1.6' '0.2' 'Iris-setosa']\n",
      " ['27' '5.0' '3.4' '1.6' '0.4' 'Iris-setosa']\n",
      " ['28' '5.2' '3.5' '1.5' '0.2' 'Iris-setosa']\n",
      " ['29' '5.2' '3.4' '1.4' '0.2' 'Iris-setosa']\n",
      " ['30' '4.7' '3.2' '1.6' '0.2' 'Iris-setosa']\n",
      " ['31' '4.8' '3.1' '1.6' '0.2' 'Iris-setosa']\n",
      " ['32' '5.4' '3.4' '1.5' '0.4' 'Iris-setosa']\n",
      " ['33' '5.2' '4.1' '1.5' '0.1' 'Iris-setosa']\n",
      " ['34' '5.5' '4.2' '1.4' '0.2' 'Iris-setosa']\n",
      " ['35' '4.9' '3.1' '1.5' '0.1' 'Iris-setosa']\n",
      " ['36' '5.0' '3.2' '1.2' '0.2' 'Iris-setosa']\n",
      " ['37' '5.5' '3.5' '1.3' '0.2' 'Iris-setosa']\n",
      " ['38' '4.9' '3.1' '1.5' '0.1' 'Iris-setosa']\n",
      " ['39' '4.4' '3.0' '1.3' '0.2' 'Iris-setosa']\n",
      " ['40' '5.1' '3.4' '1.5' '0.2' 'Iris-setosa']\n",
      " ['41' '5.0' '3.5' '1.3' '0.3' 'Iris-setosa']\n",
      " ['42' '4.5' '2.3' '1.3' '0.3' 'Iris-setosa']\n",
      " ['43' '4.4' '3.2' '1.3' '0.2' 'Iris-setosa']\n",
      " ['44' '5.0' '3.5' '1.6' '0.6' 'Iris-setosa']\n",
      " ['45' '5.1' '3.8' '1.9' '0.4' 'Iris-setosa']\n",
      " ['46' '4.8' '3.0' '1.4' '0.3' 'Iris-setosa']\n",
      " ['47' '5.1' '3.8' '1.6' '0.2' 'Iris-setosa']\n",
      " ['48' '4.6' '3.2' '1.4' '0.2' 'Iris-setosa']\n",
      " ['49' '5.3' '3.7' '1.5' '0.2' 'Iris-setosa']\n",
      " ['50' '5.0' '3.3' '1.4' '0.2' 'Iris-setosa']\n",
      " ['51' '7.0' '3.2' '4.7' '1.4' 'Iris-versicolor']\n",
      " ['52' '6.4' '3.2' '4.5' '1.5' 'Iris-versicolor']\n",
      " ['53' '6.9' '3.1' '4.9' '1.5' 'Iris-versicolor']\n",
      " ['54' '5.5' '2.3' '4.0' '1.3' 'Iris-versicolor']\n",
      " ['55' '6.5' '2.8' '4.6' '1.5' 'Iris-versicolor']\n",
      " ['56' '5.7' '2.8' '4.5' '1.3' 'Iris-versicolor']\n",
      " ['57' '6.3' '3.3' '4.7' '1.6' 'Iris-versicolor']\n",
      " ['58' '4.9' '2.4' '3.3' '1.0' 'Iris-versicolor']\n",
      " ['59' '6.6' '2.9' '4.6' '1.3' 'Iris-versicolor']\n",
      " ['60' '5.2' '2.7' '3.9' '1.4' 'Iris-versicolor']\n",
      " ['61' '5.0' '2.0' '3.5' '1.0' 'Iris-versicolor']\n",
      " ['62' '5.9' '3.0' '4.2' '1.5' 'Iris-versicolor']\n",
      " ['63' '6.0' '2.2' '4.0' '1.0' 'Iris-versicolor']\n",
      " ['64' '6.1' '2.9' '4.7' '1.4' 'Iris-versicolor']\n",
      " ['65' '5.6' '2.9' '3.6' '1.3' 'Iris-versicolor']\n",
      " ['66' '6.7' '3.1' '4.4' '1.4' 'Iris-versicolor']\n",
      " ['67' '5.6' '3.0' '4.5' '1.5' 'Iris-versicolor']\n",
      " ['68' '5.8' '2.7' '4.1' '1.0' 'Iris-versicolor']\n",
      " ['69' '6.2' '2.2' '4.5' '1.5' 'Iris-versicolor']\n",
      " ['70' '5.6' '2.5' '3.9' '1.1' 'Iris-versicolor']\n",
      " ['71' '5.9' '3.2' '4.8' '1.8' 'Iris-versicolor']\n",
      " ['72' '6.1' '2.8' '4.0' '1.3' 'Iris-versicolor']\n",
      " ['73' '6.3' '2.5' '4.9' '1.5' 'Iris-versicolor']\n",
      " ['74' '6.1' '2.8' '4.7' '1.2' 'Iris-versicolor']\n",
      " ['75' '6.4' '2.9' '4.3' '1.3' 'Iris-versicolor']\n",
      " ['76' '6.6' '3.0' '4.4' '1.4' 'Iris-versicolor']\n",
      " ['77' '6.8' '2.8' '4.8' '1.4' 'Iris-versicolor']\n",
      " ['78' '6.7' '3.0' '5.0' '1.7' 'Iris-versicolor']\n",
      " ['79' '6.0' '2.9' '4.5' '1.5' 'Iris-versicolor']\n",
      " ['80' '5.7' '2.6' '3.5' '1.0' 'Iris-versicolor']\n",
      " ['81' '5.5' '2.4' '3.8' '1.1' 'Iris-versicolor']\n",
      " ['82' '5.5' '2.4' '3.7' '1.0' 'Iris-versicolor']\n",
      " ['83' '5.8' '2.7' '3.9' '1.2' 'Iris-versicolor']\n",
      " ['84' '6.0' '2.7' '5.1' '1.6' 'Iris-versicolor']\n",
      " ['85' '5.4' '3.0' '4.5' '1.5' 'Iris-versicolor']\n",
      " ['86' '6.0' '3.4' '4.5' '1.6' 'Iris-versicolor']\n",
      " ['87' '6.7' '3.1' '4.7' '1.5' 'Iris-versicolor']\n",
      " ['88' '6.3' '2.3' '4.4' '1.3' 'Iris-versicolor']\n",
      " ['89' '5.6' '3.0' '4.1' '1.3' 'Iris-versicolor']\n",
      " ['90' '5.5' '2.5' '4.0' '1.3' 'Iris-versicolor']\n",
      " ['91' '5.5' '2.6' '4.4' '1.2' 'Iris-versicolor']\n",
      " ['92' '6.1' '3.0' '4.6' '1.4' 'Iris-versicolor']\n",
      " ['93' '5.8' '2.6' '4.0' '1.2' 'Iris-versicolor']\n",
      " ['94' '5.0' '2.3' '3.3' '1.0' 'Iris-versicolor']\n",
      " ['95' '5.6' '2.7' '4.2' '1.3' 'Iris-versicolor']\n",
      " ['96' '5.7' '3.0' '4.2' '1.2' 'Iris-versicolor']\n",
      " ['97' '5.7' '2.9' '4.2' '1.3' 'Iris-versicolor']\n",
      " ['98' '6.2' '2.9' '4.3' '1.3' 'Iris-versicolor']\n",
      " ['99' '5.1' '2.5' '3.0' '1.1' 'Iris-versicolor']\n",
      " ['100' '5.7' '2.8' '4.1' '1.3' 'Iris-versicolor']\n",
      " ['101' '6.3' '3.3' '6.0' '2.5' 'Iris-virginica']\n",
      " ['102' '5.8' '2.7' '5.1' '1.9' 'Iris-virginica']\n",
      " ['103' '7.1' '3.0' '5.9' '2.1' 'Iris-virginica']\n",
      " ['104' '6.3' '2.9' '5.6' '1.8' 'Iris-virginica']\n",
      " ['105' '6.5' '3.0' '5.8' '2.2' 'Iris-virginica']\n",
      " ['106' '7.6' '3.0' '6.6' '2.1' 'Iris-virginica']\n",
      " ['107' '4.9' '2.5' '4.5' '1.7' 'Iris-virginica']\n",
      " ['108' '7.3' '2.9' '6.3' '1.8' 'Iris-virginica']\n",
      " ['109' '6.7' '2.5' '5.8' '1.8' 'Iris-virginica']\n",
      " ['110' '7.2' '3.6' '6.1' '2.5' 'Iris-virginica']\n",
      " ['111' '6.5' '3.2' '5.1' '2.0' 'Iris-virginica']\n",
      " ['112' '6.4' '2.7' '5.3' '1.9' 'Iris-virginica']\n",
      " ['113' '6.8' '3.0' '5.5' '2.1' 'Iris-virginica']\n",
      " ['114' '5.7' '2.5' '5.0' '2.0' 'Iris-virginica']\n",
      " ['115' '5.8' '2.8' '5.1' '2.4' 'Iris-virginica']\n",
      " ['116' '6.4' '3.2' '5.3' '2.3' 'Iris-virginica']\n",
      " ['117' '6.5' '3.0' '5.5' '1.8' 'Iris-virginica']\n",
      " ['118' '7.7' '3.8' '6.7' '2.2' 'Iris-virginica']\n",
      " ['119' '7.7' '2.6' '6.9' '2.3' 'Iris-virginica']\n",
      " ['120' '6.0' '2.2' '5.0' '1.5' 'Iris-virginica']\n",
      " ['121' '6.9' '3.2' '5.7' '2.3' 'Iris-virginica']\n",
      " ['122' '5.6' '2.8' '4.9' '2.0' 'Iris-virginica']\n",
      " ['123' '7.7' '2.8' '6.7' '2.0' 'Iris-virginica']\n",
      " ['124' '6.3' '2.7' '4.9' '1.8' 'Iris-virginica']\n",
      " ['125' '6.7' '3.3' '5.7' '2.1' 'Iris-virginica']\n",
      " ['126' '7.2' '3.2' '6.0' '1.8' 'Iris-virginica']\n",
      " ['127' '6.2' '2.8' '4.8' '1.8' 'Iris-virginica']\n",
      " ['128' '6.1' '3.0' '4.9' '1.8' 'Iris-virginica']\n",
      " ['129' '6.4' '2.8' '5.6' '2.1' 'Iris-virginica']\n",
      " ['130' '7.2' '3.0' '5.8' '1.6' 'Iris-virginica']\n",
      " ['131' '7.4' '2.8' '6.1' '1.9' 'Iris-virginica']\n",
      " ['132' '7.9' '3.8' '6.4' '2.0' 'Iris-virginica']\n",
      " ['133' '6.4' '2.8' '5.6' '2.2' 'Iris-virginica']\n",
      " ['134' '6.3' '2.8' '5.1' '1.5' 'Iris-virginica']\n",
      " ['135' '6.1' '2.6' '5.6' '1.4' 'Iris-virginica']\n",
      " ['136' '7.7' '3.0' '6.1' '2.3' 'Iris-virginica']\n",
      " ['137' '6.3' '3.4' '5.6' '2.4' 'Iris-virginica']\n",
      " ['138' '6.4' '3.1' '5.5' '1.8' 'Iris-virginica']\n",
      " ['139' '6.0' '3.0' '4.8' '1.8' 'Iris-virginica']\n",
      " ['140' '6.9' '3.1' '5.4' '2.1' 'Iris-virginica']\n",
      " ['141' '6.7' '3.1' '5.6' '2.4' 'Iris-virginica']\n",
      " ['142' '6.9' '3.1' '5.1' '2.3' 'Iris-virginica']\n",
      " ['143' '5.8' '2.7' '5.1' '1.9' 'Iris-virginica']\n",
      " ['144' '6.8' '3.2' '5.9' '2.3' 'Iris-virginica']\n",
      " ['145' '6.7' '3.3' '5.7' '2.5' 'Iris-virginica']\n",
      " ['146' '6.7' '3.0' '5.2' '2.3' 'Iris-virginica']\n",
      " ['147' '6.3' '2.5' '5.0' '1.9' 'Iris-virginica']\n",
      " ['148' '6.5' '3.0' '5.2' '2.0' 'Iris-virginica']\n",
      " ['149' '6.2' '3.4' '5.4' '2.3' 'Iris-virginica']\n",
      " ['150' '5.9' '3.0' '5.1' '1.8' 'Iris-virginica']]\n"
     ]
    }
   ],
   "source": [
    "iris = np.loadtxt('iris.txt', delimiter = ',', dtype = str)\n",
    "species = {\"Iris-setosa\": 1, \"Iris-versicolor\": 2, \"Iris-virginica\": 3}\n",
    "\n",
    "print(iris)"
   ]
  },
  {
   "cell_type": "markdown",
   "id": "168d0360",
   "metadata": {},
   "source": [
    "### 2.Delete the col whose index 4 from array iris"
   ]
  },
  {
   "cell_type": "code",
   "execution_count": 58,
   "id": "f53bd95e",
   "metadata": {},
   "outputs": [],
   "source": [
    "# np.delete(arr, row/col_no, axis)\n",
    "\n",
    "# np.delete(iris, 4, axis =1 )"
   ]
  },
  {
   "cell_type": "markdown",
   "id": "cdb49f44",
   "metadata": {},
   "source": [
    "### 3. Display the shape, dimensions and size of iris"
   ]
  },
  {
   "cell_type": "code",
   "execution_count": 8,
   "id": "4d54333d",
   "metadata": {},
   "outputs": [
    {
     "name": "stdout",
     "output_type": "stream",
     "text": [
      "906\n",
      "(151, 6)\n",
      "2\n"
     ]
    }
   ],
   "source": [
    "print(iris.size)\n",
    "print(iris.shape)\n",
    "print(iris.ndim)"
   ]
  },
  {
   "cell_type": "markdown",
   "id": "7fc9f358",
   "metadata": {},
   "source": [
    "### 3.Split iris into 3 2-D arrays "
   ]
  },
  {
   "cell_type": "code",
   "execution_count": 38,
   "id": "47c2d745",
   "metadata": {},
   "outputs": [
    {
     "name": "stdout",
     "output_type": "stream",
     "text": [
      "The Shape of iris data set is:  151\n",
      "[array([ 0,  1,  2,  3,  4,  5,  6,  7,  8,  9, 10, 11, 12, 13, 14, 15, 16,\n",
      "       17, 18, 19, 20, 21, 22, 23, 24, 25, 26, 27, 28, 29, 30, 31, 32, 33,\n",
      "       34, 35, 36, 37, 38, 39, 40, 41, 42, 43, 44, 45, 46, 47, 48, 49, 50]), array([ 51,  52,  53,  54,  55,  56,  57,  58,  59,  60,  61,  62,  63,\n",
      "        64,  65,  66,  67,  68,  69,  70,  71,  72,  73,  74,  75,  76,\n",
      "        77,  78,  79,  80,  81,  82,  83,  84,  85,  86,  87,  88,  89,\n",
      "        90,  91,  92,  93,  94,  95,  96,  97,  98,  99, 100]), array([101, 102, 103, 104, 105, 106, 107, 108, 109, 110, 111, 112, 113,\n",
      "       114, 115, 116, 117, 118, 119, 120, 121, 122, 123, 124, 125, 126,\n",
      "       127, 128, 129, 130, 131, 132, 133, 134, 135, 136, 137, 138, 139,\n",
      "       140, 141, 142, 143, 144, 145, 146, 147, 148, 149, 150])]\n"
     ]
    }
   ],
   "source": [
    "shape = iris.shape[0] # row-wise\n",
    "print(\"The Shape of iris data set is: \",shape)\n",
    "\n",
    "# splitting all the rows  into 3 equal parts \n",
    "\n",
    "arange = np.array_split(np.arange(shape),3) # np.arange(shape) returns an array like[0 1 2 3...]\n",
    "print(arange)\n",
    "\n",
    "iris1 =iris[arange[0]] \n",
    "iris2 = iris[arange[1]]\n",
    "iris3 = iris[arange[2]]\n"
   ]
  },
  {
   "cell_type": "markdown",
   "id": "04ff54ac",
   "metadata": {},
   "source": [
    "### 5. Print the three arrays iris1, iris2, iris3"
   ]
  },
  {
   "cell_type": "code",
   "execution_count": 41,
   "id": "05d3f30e",
   "metadata": {},
   "outputs": [
    {
     "name": "stdout",
     "output_type": "stream",
     "text": [
      "The first 2-D array is: \n",
      " [['Id' 'SepalLengthCm' 'SepalWidthCm' 'PetalLengthCm' 'PetalWidthCm'\n",
      "  'Species']\n",
      " ['1' '5.1' '3.5' '1.4' '0.2' 'Iris-setosa']\n",
      " ['2' '4.9' '3.0' '1.4' '0.2' 'Iris-setosa']\n",
      " ['3' '4.7' '3.2' '1.3' '0.2' 'Iris-setosa']\n",
      " ['4' '4.6' '3.1' '1.5' '0.2' 'Iris-setosa']\n",
      " ['5' '5.0' '3.6' '1.4' '0.2' 'Iris-setosa']\n",
      " ['6' '5.4' '3.9' '1.7' '0.4' 'Iris-setosa']\n",
      " ['7' '4.6' '3.4' '1.4' '0.3' 'Iris-setosa']\n",
      " ['8' '5.0' '3.4' '1.5' '0.2' 'Iris-setosa']\n",
      " ['9' '4.4' '2.9' '1.4' '0.2' 'Iris-setosa']\n",
      " ['10' '4.9' '3.1' '1.5' '0.1' 'Iris-setosa']\n",
      " ['11' '5.4' '3.7' '1.5' '0.2' 'Iris-setosa']\n",
      " ['12' '4.8' '3.4' '1.6' '0.2' 'Iris-setosa']\n",
      " ['13' '4.8' '3.0' '1.4' '0.1' 'Iris-setosa']\n",
      " ['14' '4.3' '3.0' '1.1' '0.1' 'Iris-setosa']\n",
      " ['15' '5.8' '4.0' '1.2' '0.2' 'Iris-setosa']\n",
      " ['16' '5.7' '4.4' '1.5' '0.4' 'Iris-setosa']\n",
      " ['17' '5.4' '3.9' '1.3' '0.4' 'Iris-setosa']\n",
      " ['18' '5.1' '3.5' '1.4' '0.3' 'Iris-setosa']\n",
      " ['19' '5.7' '3.8' '1.7' '0.3' 'Iris-setosa']\n",
      " ['20' '5.1' '3.8' '1.5' '0.3' 'Iris-setosa']\n",
      " ['21' '5.4' '3.4' '1.7' '0.2' 'Iris-setosa']\n",
      " ['22' '5.1' '3.7' '1.5' '0.4' 'Iris-setosa']\n",
      " ['23' '4.6' '3.6' '1.0' '0.2' 'Iris-setosa']\n",
      " ['24' '5.1' '3.3' '1.7' '0.5' 'Iris-setosa']\n",
      " ['25' '4.8' '3.4' '1.9' '0.2' 'Iris-setosa']\n",
      " ['26' '5.0' '3.0' '1.6' '0.2' 'Iris-setosa']\n",
      " ['27' '5.0' '3.4' '1.6' '0.4' 'Iris-setosa']\n",
      " ['28' '5.2' '3.5' '1.5' '0.2' 'Iris-setosa']\n",
      " ['29' '5.2' '3.4' '1.4' '0.2' 'Iris-setosa']\n",
      " ['30' '4.7' '3.2' '1.6' '0.2' 'Iris-setosa']\n",
      " ['31' '4.8' '3.1' '1.6' '0.2' 'Iris-setosa']\n",
      " ['32' '5.4' '3.4' '1.5' '0.4' 'Iris-setosa']\n",
      " ['33' '5.2' '4.1' '1.5' '0.1' 'Iris-setosa']\n",
      " ['34' '5.5' '4.2' '1.4' '0.2' 'Iris-setosa']\n",
      " ['35' '4.9' '3.1' '1.5' '0.1' 'Iris-setosa']\n",
      " ['36' '5.0' '3.2' '1.2' '0.2' 'Iris-setosa']\n",
      " ['37' '5.5' '3.5' '1.3' '0.2' 'Iris-setosa']\n",
      " ['38' '4.9' '3.1' '1.5' '0.1' 'Iris-setosa']\n",
      " ['39' '4.4' '3.0' '1.3' '0.2' 'Iris-setosa']\n",
      " ['40' '5.1' '3.4' '1.5' '0.2' 'Iris-setosa']\n",
      " ['41' '5.0' '3.5' '1.3' '0.3' 'Iris-setosa']\n",
      " ['42' '4.5' '2.3' '1.3' '0.3' 'Iris-setosa']\n",
      " ['43' '4.4' '3.2' '1.3' '0.2' 'Iris-setosa']\n",
      " ['44' '5.0' '3.5' '1.6' '0.6' 'Iris-setosa']\n",
      " ['45' '5.1' '3.8' '1.9' '0.4' 'Iris-setosa']\n",
      " ['46' '4.8' '3.0' '1.4' '0.3' 'Iris-setosa']\n",
      " ['47' '5.1' '3.8' '1.6' '0.2' 'Iris-setosa']\n",
      " ['48' '4.6' '3.2' '1.4' '0.2' 'Iris-setosa']\n",
      " ['49' '5.3' '3.7' '1.5' '0.2' 'Iris-setosa']\n",
      " ['50' '5.0' '3.3' '1.4' '0.2' 'Iris-setosa']]\n",
      "\n",
      "\n",
      "---------\n",
      "The second 2-D array is: \n",
      " [['51' '7.0' '3.2' '4.7' '1.4' 'Iris-versicolor']\n",
      " ['52' '6.4' '3.2' '4.5' '1.5' 'Iris-versicolor']\n",
      " ['53' '6.9' '3.1' '4.9' '1.5' 'Iris-versicolor']\n",
      " ['54' '5.5' '2.3' '4.0' '1.3' 'Iris-versicolor']\n",
      " ['55' '6.5' '2.8' '4.6' '1.5' 'Iris-versicolor']\n",
      " ['56' '5.7' '2.8' '4.5' '1.3' 'Iris-versicolor']\n",
      " ['57' '6.3' '3.3' '4.7' '1.6' 'Iris-versicolor']\n",
      " ['58' '4.9' '2.4' '3.3' '1.0' 'Iris-versicolor']\n",
      " ['59' '6.6' '2.9' '4.6' '1.3' 'Iris-versicolor']\n",
      " ['60' '5.2' '2.7' '3.9' '1.4' 'Iris-versicolor']\n",
      " ['61' '5.0' '2.0' '3.5' '1.0' 'Iris-versicolor']\n",
      " ['62' '5.9' '3.0' '4.2' '1.5' 'Iris-versicolor']\n",
      " ['63' '6.0' '2.2' '4.0' '1.0' 'Iris-versicolor']\n",
      " ['64' '6.1' '2.9' '4.7' '1.4' 'Iris-versicolor']\n",
      " ['65' '5.6' '2.9' '3.6' '1.3' 'Iris-versicolor']\n",
      " ['66' '6.7' '3.1' '4.4' '1.4' 'Iris-versicolor']\n",
      " ['67' '5.6' '3.0' '4.5' '1.5' 'Iris-versicolor']\n",
      " ['68' '5.8' '2.7' '4.1' '1.0' 'Iris-versicolor']\n",
      " ['69' '6.2' '2.2' '4.5' '1.5' 'Iris-versicolor']\n",
      " ['70' '5.6' '2.5' '3.9' '1.1' 'Iris-versicolor']\n",
      " ['71' '5.9' '3.2' '4.8' '1.8' 'Iris-versicolor']\n",
      " ['72' '6.1' '2.8' '4.0' '1.3' 'Iris-versicolor']\n",
      " ['73' '6.3' '2.5' '4.9' '1.5' 'Iris-versicolor']\n",
      " ['74' '6.1' '2.8' '4.7' '1.2' 'Iris-versicolor']\n",
      " ['75' '6.4' '2.9' '4.3' '1.3' 'Iris-versicolor']\n",
      " ['76' '6.6' '3.0' '4.4' '1.4' 'Iris-versicolor']\n",
      " ['77' '6.8' '2.8' '4.8' '1.4' 'Iris-versicolor']\n",
      " ['78' '6.7' '3.0' '5.0' '1.7' 'Iris-versicolor']\n",
      " ['79' '6.0' '2.9' '4.5' '1.5' 'Iris-versicolor']\n",
      " ['80' '5.7' '2.6' '3.5' '1.0' 'Iris-versicolor']\n",
      " ['81' '5.5' '2.4' '3.8' '1.1' 'Iris-versicolor']\n",
      " ['82' '5.5' '2.4' '3.7' '1.0' 'Iris-versicolor']\n",
      " ['83' '5.8' '2.7' '3.9' '1.2' 'Iris-versicolor']\n",
      " ['84' '6.0' '2.7' '5.1' '1.6' 'Iris-versicolor']\n",
      " ['85' '5.4' '3.0' '4.5' '1.5' 'Iris-versicolor']\n",
      " ['86' '6.0' '3.4' '4.5' '1.6' 'Iris-versicolor']\n",
      " ['87' '6.7' '3.1' '4.7' '1.5' 'Iris-versicolor']\n",
      " ['88' '6.3' '2.3' '4.4' '1.3' 'Iris-versicolor']\n",
      " ['89' '5.6' '3.0' '4.1' '1.3' 'Iris-versicolor']\n",
      " ['90' '5.5' '2.5' '4.0' '1.3' 'Iris-versicolor']\n",
      " ['91' '5.5' '2.6' '4.4' '1.2' 'Iris-versicolor']\n",
      " ['92' '6.1' '3.0' '4.6' '1.4' 'Iris-versicolor']\n",
      " ['93' '5.8' '2.6' '4.0' '1.2' 'Iris-versicolor']\n",
      " ['94' '5.0' '2.3' '3.3' '1.0' 'Iris-versicolor']\n",
      " ['95' '5.6' '2.7' '4.2' '1.3' 'Iris-versicolor']\n",
      " ['96' '5.7' '3.0' '4.2' '1.2' 'Iris-versicolor']\n",
      " ['97' '5.7' '2.9' '4.2' '1.3' 'Iris-versicolor']\n",
      " ['98' '6.2' '2.9' '4.3' '1.3' 'Iris-versicolor']\n",
      " ['99' '5.1' '2.5' '3.0' '1.1' 'Iris-versicolor']\n",
      " ['100' '5.7' '2.8' '4.1' '1.3' 'Iris-versicolor']]\n",
      "\n",
      "\n",
      "---------\n",
      "The third 2-D array is:\n",
      "  [['101' '6.3' '3.3' '6.0' '2.5' 'Iris-virginica']\n",
      " ['102' '5.8' '2.7' '5.1' '1.9' 'Iris-virginica']\n",
      " ['103' '7.1' '3.0' '5.9' '2.1' 'Iris-virginica']\n",
      " ['104' '6.3' '2.9' '5.6' '1.8' 'Iris-virginica']\n",
      " ['105' '6.5' '3.0' '5.8' '2.2' 'Iris-virginica']\n",
      " ['106' '7.6' '3.0' '6.6' '2.1' 'Iris-virginica']\n",
      " ['107' '4.9' '2.5' '4.5' '1.7' 'Iris-virginica']\n",
      " ['108' '7.3' '2.9' '6.3' '1.8' 'Iris-virginica']\n",
      " ['109' '6.7' '2.5' '5.8' '1.8' 'Iris-virginica']\n",
      " ['110' '7.2' '3.6' '6.1' '2.5' 'Iris-virginica']\n",
      " ['111' '6.5' '3.2' '5.1' '2.0' 'Iris-virginica']\n",
      " ['112' '6.4' '2.7' '5.3' '1.9' 'Iris-virginica']\n",
      " ['113' '6.8' '3.0' '5.5' '2.1' 'Iris-virginica']\n",
      " ['114' '5.7' '2.5' '5.0' '2.0' 'Iris-virginica']\n",
      " ['115' '5.8' '2.8' '5.1' '2.4' 'Iris-virginica']\n",
      " ['116' '6.4' '3.2' '5.3' '2.3' 'Iris-virginica']\n",
      " ['117' '6.5' '3.0' '5.5' '1.8' 'Iris-virginica']\n",
      " ['118' '7.7' '3.8' '6.7' '2.2' 'Iris-virginica']\n",
      " ['119' '7.7' '2.6' '6.9' '2.3' 'Iris-virginica']\n",
      " ['120' '6.0' '2.2' '5.0' '1.5' 'Iris-virginica']\n",
      " ['121' '6.9' '3.2' '5.7' '2.3' 'Iris-virginica']\n",
      " ['122' '5.6' '2.8' '4.9' '2.0' 'Iris-virginica']\n",
      " ['123' '7.7' '2.8' '6.7' '2.0' 'Iris-virginica']\n",
      " ['124' '6.3' '2.7' '4.9' '1.8' 'Iris-virginica']\n",
      " ['125' '6.7' '3.3' '5.7' '2.1' 'Iris-virginica']\n",
      " ['126' '7.2' '3.2' '6.0' '1.8' 'Iris-virginica']\n",
      " ['127' '6.2' '2.8' '4.8' '1.8' 'Iris-virginica']\n",
      " ['128' '6.1' '3.0' '4.9' '1.8' 'Iris-virginica']\n",
      " ['129' '6.4' '2.8' '5.6' '2.1' 'Iris-virginica']\n",
      " ['130' '7.2' '3.0' '5.8' '1.6' 'Iris-virginica']\n",
      " ['131' '7.4' '2.8' '6.1' '1.9' 'Iris-virginica']\n",
      " ['132' '7.9' '3.8' '6.4' '2.0' 'Iris-virginica']\n",
      " ['133' '6.4' '2.8' '5.6' '2.2' 'Iris-virginica']\n",
      " ['134' '6.3' '2.8' '5.1' '1.5' 'Iris-virginica']\n",
      " ['135' '6.1' '2.6' '5.6' '1.4' 'Iris-virginica']\n",
      " ['136' '7.7' '3.0' '6.1' '2.3' 'Iris-virginica']\n",
      " ['137' '6.3' '3.4' '5.6' '2.4' 'Iris-virginica']\n",
      " ['138' '6.4' '3.1' '5.5' '1.8' 'Iris-virginica']\n",
      " ['139' '6.0' '3.0' '4.8' '1.8' 'Iris-virginica']\n",
      " ['140' '6.9' '3.1' '5.4' '2.1' 'Iris-virginica']\n",
      " ['141' '6.7' '3.1' '5.6' '2.4' 'Iris-virginica']\n",
      " ['142' '6.9' '3.1' '5.1' '2.3' 'Iris-virginica']\n",
      " ['143' '5.8' '2.7' '5.1' '1.9' 'Iris-virginica']\n",
      " ['144' '6.8' '3.2' '5.9' '2.3' 'Iris-virginica']\n",
      " ['145' '6.7' '3.3' '5.7' '2.5' 'Iris-virginica']\n",
      " ['146' '6.7' '3.0' '5.2' '2.3' 'Iris-virginica']\n",
      " ['147' '6.3' '2.5' '5.0' '1.9' 'Iris-virginica']\n",
      " ['148' '6.5' '3.0' '5.2' '2.0' 'Iris-virginica']\n",
      " ['149' '6.2' '3.4' '5.4' '2.3' 'Iris-virginica']\n",
      " ['150' '5.9' '3.0' '5.1' '1.8' 'Iris-virginica']]\n",
      "\n",
      "\n",
      "---------\n"
     ]
    }
   ],
   "source": [
    "print(\"The first 2-D array is: \\n\",iris1)\n",
    "print(\"\\n\\n---------\")\n",
    "\n",
    "\n",
    "print(\"The second 2-D array is: \\n\",iris2)\n",
    "print(\"\\n\\n---------\")\n",
    "\n",
    "\n",
    "print(\"The third 2-D array is:\\n \",iris3)\n",
    "print(\"\\n\\n---------\")"
   ]
  },
  {
   "cell_type": "markdown",
   "id": "8da67ce7",
   "metadata": {},
   "source": [
    "### 6. Create a 1-D array header having elements \"sepal length\" , \"sepal width\" , \"petal length\", \"petal width\" , \"species.no\" in that order ."
   ]
  },
  {
   "cell_type": "code",
   "execution_count": 43,
   "id": "0a1f06d3",
   "metadata": {},
   "outputs": [
    {
     "name": "stdout",
     "output_type": "stream",
     "text": [
      "['sepal length' 'sepal width' 'petal length' 'petal width' 'species.no']\n"
     ]
    }
   ],
   "source": [
    "array = np.array([\"sepal length\", \"sepal width\", \"petal length\", \"petal width\" , \"species.no\"])\n",
    "print(array)"
   ]
  },
  {
   "cell_type": "markdown",
   "id": "11220c85",
   "metadata": {},
   "source": [
    "### 7. Find min, max, mean and std of the columns"
   ]
  },
  {
   "cell_type": "code",
   "execution_count": 50,
   "id": "e3d13045",
   "metadata": {},
   "outputs": [
    {
     "ename": "TypeError",
     "evalue": "cannot perform reduce with flexible type",
     "output_type": "error",
     "traceback": [
      "\u001b[1;31m---------------------------------------------------------------------------\u001b[0m",
      "\u001b[1;31mTypeError\u001b[0m                                 Traceback (most recent call last)",
      "\u001b[1;32m~\\AppData\\Local\\Temp/ipykernel_13444/3390651392.py\u001b[0m in \u001b[0;36m<module>\u001b[1;34m\u001b[0m\n\u001b[0;32m      3\u001b[0m \u001b[1;32mfor\u001b[0m \u001b[0mi\u001b[0m \u001b[1;32min\u001b[0m \u001b[0mrange\u001b[0m\u001b[1;33m(\u001b[0m\u001b[0miris\u001b[0m\u001b[1;33m.\u001b[0m\u001b[0mshape\u001b[0m\u001b[1;33m[\u001b[0m\u001b[1;36m1\u001b[0m\u001b[1;33m]\u001b[0m\u001b[1;33m-\u001b[0m\u001b[1;36m1\u001b[0m\u001b[1;33m)\u001b[0m \u001b[1;33m:\u001b[0m\u001b[1;33m\u001b[0m\u001b[1;33m\u001b[0m\u001b[0m\n\u001b[0;32m      4\u001b[0m \u001b[1;33m\u001b[0m\u001b[0m\n\u001b[1;32m----> 5\u001b[1;33m     \u001b[0mi_min\u001b[0m \u001b[1;33m=\u001b[0m \u001b[0mnp\u001b[0m\u001b[1;33m.\u001b[0m\u001b[0mappend\u001b[0m\u001b[1;33m(\u001b[0m\u001b[0mi_min\u001b[0m\u001b[1;33m,\u001b[0m\u001b[0miris\u001b[0m\u001b[1;33m[\u001b[0m\u001b[1;33m:\u001b[0m\u001b[1;33m,\u001b[0m\u001b[0mi\u001b[0m\u001b[1;33m]\u001b[0m\u001b[1;33m.\u001b[0m\u001b[0mmin\u001b[0m\u001b[1;33m(\u001b[0m\u001b[1;33m)\u001b[0m\u001b[1;33m)\u001b[0m\u001b[1;33m\u001b[0m\u001b[1;33m\u001b[0m\u001b[0m\n\u001b[0m\u001b[0;32m      6\u001b[0m     \u001b[0mi_max\u001b[0m \u001b[1;33m=\u001b[0m \u001b[0mnp\u001b[0m\u001b[1;33m.\u001b[0m\u001b[0mappend\u001b[0m\u001b[1;33m(\u001b[0m\u001b[0mi_max\u001b[0m\u001b[1;33m,\u001b[0m\u001b[0miris\u001b[0m\u001b[1;33m[\u001b[0m\u001b[1;33m:\u001b[0m\u001b[1;33m,\u001b[0m\u001b[0mi\u001b[0m\u001b[1;33m]\u001b[0m\u001b[1;33m.\u001b[0m\u001b[0mmax\u001b[0m\u001b[1;33m(\u001b[0m\u001b[1;33m)\u001b[0m\u001b[1;33m)\u001b[0m\u001b[1;33m\u001b[0m\u001b[1;33m\u001b[0m\u001b[0m\n\u001b[0;32m      7\u001b[0m     \u001b[0mi_mean\u001b[0m \u001b[1;33m=\u001b[0m \u001b[0mnp\u001b[0m\u001b[1;33m.\u001b[0m\u001b[0mappend\u001b[0m\u001b[1;33m(\u001b[0m\u001b[0mi_mean\u001b[0m\u001b[1;33m,\u001b[0m\u001b[0miris\u001b[0m\u001b[1;33m[\u001b[0m\u001b[1;33m:\u001b[0m\u001b[1;33m,\u001b[0m\u001b[0mi\u001b[0m\u001b[1;33m]\u001b[0m\u001b[1;33m.\u001b[0m\u001b[0mmean\u001b[0m\u001b[1;33m(\u001b[0m\u001b[1;33m)\u001b[0m\u001b[1;33m)\u001b[0m\u001b[1;33m\u001b[0m\u001b[1;33m\u001b[0m\u001b[0m\n",
      "\u001b[1;32mC:\\ProgramData\\Anaconda3\\lib\\site-packages\\numpy\\core\\_methods.py\u001b[0m in \u001b[0;36m_amin\u001b[1;34m(a, axis, out, keepdims, initial, where)\u001b[0m\n\u001b[0;32m     41\u001b[0m def _amin(a, axis=None, out=None, keepdims=False,\n\u001b[0;32m     42\u001b[0m           initial=_NoValue, where=True):\n\u001b[1;32m---> 43\u001b[1;33m     \u001b[1;32mreturn\u001b[0m \u001b[0mumr_minimum\u001b[0m\u001b[1;33m(\u001b[0m\u001b[0ma\u001b[0m\u001b[1;33m,\u001b[0m \u001b[0maxis\u001b[0m\u001b[1;33m,\u001b[0m \u001b[1;32mNone\u001b[0m\u001b[1;33m,\u001b[0m \u001b[0mout\u001b[0m\u001b[1;33m,\u001b[0m \u001b[0mkeepdims\u001b[0m\u001b[1;33m,\u001b[0m \u001b[0minitial\u001b[0m\u001b[1;33m,\u001b[0m \u001b[0mwhere\u001b[0m\u001b[1;33m)\u001b[0m\u001b[1;33m\u001b[0m\u001b[1;33m\u001b[0m\u001b[0m\n\u001b[0m\u001b[0;32m     44\u001b[0m \u001b[1;33m\u001b[0m\u001b[0m\n\u001b[0;32m     45\u001b[0m def _sum(a, axis=None, dtype=None, out=None, keepdims=False,\n",
      "\u001b[1;31mTypeError\u001b[0m: cannot perform reduce with flexible type"
     ]
    }
   ],
   "source": [
    "i_min , i_max , i_mean , i_median , i_std , i_var = np.array([]) , np.array([]) , np.array([]) , np.array([]) , np.array([]) , np.array([])\n",
    "\n",
    "for i in range(iris.shape[1]-1) :\n",
    "    \n",
    "    i_min = np.append(i_min,iris[:,i].min())\n",
    "    i_max = np.append(i_max,iris[:,i].max())\n",
    "    i_mean = np.append(i_mean,iris[:,i].mean())\n",
    "    i_median = np.append(i_median,iris[:,i].median())\n",
    "    i_std = np.append(i_std ,iris[:,i].std())\n",
    "    i_var = np.append(i_var, iris[:,i].var())"
   ]
  },
  {
   "cell_type": "code",
   "execution_count": 62,
   "id": "3163adb5",
   "metadata": {},
   "outputs": [
    {
     "name": "stdout",
     "output_type": "stream",
     "text": [
      "asma parveen nouri\n",
      "asma,parveen,nouri\n",
      "asma\n",
      "parveen\n",
      "nourin\n",
      "asma--parveen is her last name\n"
     ]
    }
   ],
   "source": [
    "print(\"asma\",\"parveen\",\"nouri\")\n",
    "\n",
    "print(\"asma\",\"parveen\",\"nouri\", sep = \",\") # default is \" \"\n",
    "\n",
    "# Specifies the string to use as a separator between the objects being printed.\n",
    "\n",
    "print(\"asma\")\n",
    "print(\"parveen\")\n",
    "print(\"nourin\")\n",
    "\n",
    "print(\"asma\" , end = \"--\") # default value is \\n\n",
    "print(\"parveen is her last name\")\n",
    "\n",
    "# It specifies the string to use as a terminator after the objects are printed"
   ]
  },
  {
   "cell_type": "code",
   "execution_count": 65,
   "id": "9597bdf3",
   "metadata": {},
   "outputs": [
    {
     "ename": "TypeError",
     "evalue": "cannot perform reduce with flexible type",
     "output_type": "error",
     "traceback": [
      "\u001b[1;31m---------------------------------------------------------------------------\u001b[0m",
      "\u001b[1;31mTypeError\u001b[0m                                 Traceback (most recent call last)",
      "\u001b[1;32m~\\AppData\\Local\\Temp/ipykernel_13444/2911059219.py\u001b[0m in \u001b[0;36m<module>\u001b[1;34m\u001b[0m\n\u001b[1;32m----> 1\u001b[1;33m \u001b[0mi_min\u001b[0m \u001b[1;33m=\u001b[0m \u001b[0miris1\u001b[0m\u001b[1;33m.\u001b[0m\u001b[0mmin\u001b[0m\u001b[1;33m(\u001b[0m\u001b[1;33m)\u001b[0m\u001b[1;33m\u001b[0m\u001b[1;33m\u001b[0m\u001b[0m\n\u001b[0m\u001b[0;32m      2\u001b[0m \u001b[0mprint\u001b[0m\u001b[1;33m(\u001b[0m\u001b[0mi_min\u001b[0m\u001b[1;33m,\u001b[0m\u001b[0maxis\u001b[0m\u001b[1;33m=\u001b[0m\u001b[1;36m0\u001b[0m\u001b[1;33m)\u001b[0m\u001b[1;33m\u001b[0m\u001b[1;33m\u001b[0m\u001b[0m\n",
      "\u001b[1;32mC:\\ProgramData\\Anaconda3\\lib\\site-packages\\numpy\\core\\_methods.py\u001b[0m in \u001b[0;36m_amin\u001b[1;34m(a, axis, out, keepdims, initial, where)\u001b[0m\n\u001b[0;32m     41\u001b[0m def _amin(a, axis=None, out=None, keepdims=False,\n\u001b[0;32m     42\u001b[0m           initial=_NoValue, where=True):\n\u001b[1;32m---> 43\u001b[1;33m     \u001b[1;32mreturn\u001b[0m \u001b[0mumr_minimum\u001b[0m\u001b[1;33m(\u001b[0m\u001b[0ma\u001b[0m\u001b[1;33m,\u001b[0m \u001b[0maxis\u001b[0m\u001b[1;33m,\u001b[0m \u001b[1;32mNone\u001b[0m\u001b[1;33m,\u001b[0m \u001b[0mout\u001b[0m\u001b[1;33m,\u001b[0m \u001b[0mkeepdims\u001b[0m\u001b[1;33m,\u001b[0m \u001b[0minitial\u001b[0m\u001b[1;33m,\u001b[0m \u001b[0mwhere\u001b[0m\u001b[1;33m)\u001b[0m\u001b[1;33m\u001b[0m\u001b[1;33m\u001b[0m\u001b[0m\n\u001b[0m\u001b[0;32m     44\u001b[0m \u001b[1;33m\u001b[0m\u001b[0m\n\u001b[0;32m     45\u001b[0m def _sum(a, axis=None, dtype=None, out=None, keepdims=False,\n",
      "\u001b[1;31mTypeError\u001b[0m: cannot perform reduce with flexible type"
     ]
    }
   ],
   "source": [
    "i_min = iris1.min()\n",
    "print(i_min,axis=0)"
   ]
  }
 ],
 "metadata": {
  "kernelspec": {
   "display_name": "Python 3 (ipykernel)",
   "language": "python",
   "name": "python3"
  },
  "language_info": {
   "codemirror_mode": {
    "name": "ipython",
    "version": 3
   },
   "file_extension": ".py",
   "mimetype": "text/x-python",
   "name": "python",
   "nbconvert_exporter": "python",
   "pygments_lexer": "ipython3",
   "version": "3.9.7"
  }
 },
 "nbformat": 4,
 "nbformat_minor": 5
}
