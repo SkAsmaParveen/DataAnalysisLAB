{
 "cells": [
  {
   "cell_type": "code",
   "execution_count": 2,
   "id": "2b856189",
   "metadata": {},
   "outputs": [],
   "source": [
    "import pandas as pd\n"
   ]
  },
  {
   "cell_type": "code",
   "execution_count": 47,
   "id": "f81aec0b",
   "metadata": {},
   "outputs": [
    {
     "name": "stdout",
     "output_type": "stream",
     "text": [
      "The Given Training Dataset is: \n",
      "\n"
     ]
    },
    {
     "data": {
      "text/html": [
       "<div>\n",
       "<style scoped>\n",
       "    .dataframe tbody tr th:only-of-type {\n",
       "        vertical-align: middle;\n",
       "    }\n",
       "\n",
       "    .dataframe tbody tr th {\n",
       "        vertical-align: top;\n",
       "    }\n",
       "\n",
       "    .dataframe thead th {\n",
       "        text-align: right;\n",
       "    }\n",
       "</style>\n",
       "<table border=\"1\" class=\"dataframe\">\n",
       "  <thead>\n",
       "    <tr style=\"text-align: right;\">\n",
       "      <th></th>\n",
       "      <th>Sky</th>\n",
       "      <th>AirTemp</th>\n",
       "      <th>Humidity</th>\n",
       "      <th>Wind</th>\n",
       "      <th>Water</th>\n",
       "      <th>Forecast</th>\n",
       "      <th>EnjoySport</th>\n",
       "    </tr>\n",
       "  </thead>\n",
       "  <tbody>\n",
       "    <tr>\n",
       "      <th>0</th>\n",
       "      <td>Sunny</td>\n",
       "      <td>Warm</td>\n",
       "      <td>Normal</td>\n",
       "      <td>Strong</td>\n",
       "      <td>Warm</td>\n",
       "      <td>Same</td>\n",
       "      <td>Yes</td>\n",
       "    </tr>\n",
       "    <tr>\n",
       "      <th>1</th>\n",
       "      <td>Sunny</td>\n",
       "      <td>Warm</td>\n",
       "      <td>High</td>\n",
       "      <td>Strong</td>\n",
       "      <td>Warm</td>\n",
       "      <td>Same</td>\n",
       "      <td>Yes</td>\n",
       "    </tr>\n",
       "    <tr>\n",
       "      <th>2</th>\n",
       "      <td>Rainy</td>\n",
       "      <td>Cold</td>\n",
       "      <td>High</td>\n",
       "      <td>Strong</td>\n",
       "      <td>Warm</td>\n",
       "      <td>Change</td>\n",
       "      <td>No</td>\n",
       "    </tr>\n",
       "    <tr>\n",
       "      <th>3</th>\n",
       "      <td>Sunny</td>\n",
       "      <td>Warm</td>\n",
       "      <td>High</td>\n",
       "      <td>Strong</td>\n",
       "      <td>Cool</td>\n",
       "      <td>Change</td>\n",
       "      <td>Yes</td>\n",
       "    </tr>\n",
       "  </tbody>\n",
       "</table>\n",
       "</div>"
      ],
      "text/plain": [
       "     Sky AirTemp Humidity    Wind Water Forecast EnjoySport\n",
       "0  Sunny    Warm   Normal  Strong  Warm     Same        Yes\n",
       "1  Sunny    Warm     High  Strong  Warm     Same        Yes\n",
       "2  Rainy    Cold     High  Strong  Warm   Change         No\n",
       "3  Sunny    Warm     High  Strong  Cool   Change        Yes"
      ]
     },
     "metadata": {},
     "output_type": "display_data"
    },
    {
     "data": {
      "text/plain": [
       "'Yes'"
      ]
     },
     "execution_count": 47,
     "metadata": {},
     "output_type": "execute_result"
    }
   ],
   "source": [
    "# Reading and printing a Dataset given\n",
    "\n",
    "df = pd.read_csv('enjoysport.csv') \n",
    "\n",
    "print('The Given Training Dataset is: \\n')\n",
    "display(df)\n",
    "\n",
    "# To count the number of columns of a df ==> df.shape[1]\n",
    "# 1 i.e., col-wise\n",
    "\n",
    "n = df.shape[1] - 1\n",
    "\n",
    "# n: no_of_attributes after excluding the last column as it is a 'CLASS LABEL'\n",
    "\n",
    "df.loc[0][n]\n"
   ]
  },
  {
   "cell_type": "code",
   "execution_count": 68,
   "id": "9ef5a99b",
   "metadata": {},
   "outputs": [
    {
     "name": "stdout",
     "output_type": "stream",
     "text": [
      "\n",
      " Finding Maximally Specific Hypothesis \n",
      "\n",
      "For the Instance 0 the hypothesis is: \n",
      " ['Sunny', 'Warm', 'Normal', 'Strong', 'Warm', 'Same'] \n",
      "\n",
      "For the Instance 1 the hypothesis is: \n",
      " ['Sunny', 'Warm', '?', 'Strong', 'Warm', 'Same'] \n",
      "\n",
      "For the Instance 2 the hypothesis is: \n",
      " ['Sunny', 'Warm', '?', 'Strong', 'Warm', 'Same'] \n",
      "\n",
      "For the Instance 3 the hypothesis is: \n",
      " ['Sunny', 'Warm', '?', 'Strong', '?', '?'] \n",
      "\n",
      "Maximally Specific Hypothesis for given Training dataset:  ['Sunny', 'Warm', '?', 'Strong', '?', '?']\n"
     ]
    }
   ],
   "source": [
    "# STEP-1 : Initialize h to 0's\n",
    "\n",
    "hypothesis = ['0'] * n\n",
    "\n",
    "# iterating through all the columns and updating hypothesis\n",
    "\n",
    "for i in range(0,n):\n",
    "    hypothesis[i] = df.loc[0][i] \n",
    "    \n",
    "print('\\n Finding Maximally Specific Hypothesis \\n')\n",
    "\n",
    "\n",
    "\n",
    "for i in range(0,df.shape[0]): # iterating through all the rows\n",
    "    if(df.loc[i][n] == 'Yes'):\n",
    "        for j in range(0,n):\n",
    "            if(df.loc[i][j] != hypothesis[j]):\n",
    "                hypothesis[j] = '?'\n",
    "            else:\n",
    "                hypothesis[j] = df.loc[i][j]\n",
    "                \n",
    "    # print(hypothesis)\n",
    "    \n",
    "    print(f\"For the Instance {i} the hypothesis is: \\n\",hypothesis,'\\n')\n",
    "       \n",
    "       \n",
    "print(\"Maximally Specific Hypothesis for given Training dataset: \",hypothesis)\n",
    "\n",
    "    "
   ]
  },
  {
   "cell_type": "code",
   "execution_count": null,
   "id": "5535b881",
   "metadata": {},
   "outputs": [],
   "source": []
  }
 ],
 "metadata": {
  "kernelspec": {
   "display_name": "Python 3 (ipykernel)",
   "language": "python",
   "name": "python3"
  },
  "language_info": {
   "codemirror_mode": {
    "name": "ipython",
    "version": 3
   },
   "file_extension": ".py",
   "mimetype": "text/x-python",
   "name": "python",
   "nbconvert_exporter": "python",
   "pygments_lexer": "ipython3",
   "version": "3.11.3"
  }
 },
 "nbformat": 4,
 "nbformat_minor": 5
}
